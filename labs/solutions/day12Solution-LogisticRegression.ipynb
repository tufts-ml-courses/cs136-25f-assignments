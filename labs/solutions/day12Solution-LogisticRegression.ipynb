{
 "cells": [
  {
   "cell_type": "markdown",
   "metadata": {},
   "source": [
    "# CS 136 day12 SOLUTION: MAP estimation for Logistic Regression\n",
    "\n",
    "## Outline\n",
    "\n",
    "* **Part 1: Understanding sigmoids and Logistic Regression as a model**\n",
    "* **Part 2: Computing the MAP objective**\n",
    "* **Part 3: Gradient descent for the MAP: Comparing 1st and 2nd order GD**\n",
    "\n",
    "## Takeaways\n",
    "\n",
    "* First-order methods are cheap but require many iterations\n",
    "* Second-order methods are awesome\n",
    "* For all gradient descent methods, selecting step sizes is super important. Line search is needed!"
   ]
  },
  {
   "cell_type": "code",
   "execution_count": null,
   "metadata": {},
   "outputs": [],
   "source": [
    "import numpy as np\n",
    "import pandas as pd\n",
    "import scipy.stats"
   ]
  },
  {
   "cell_type": "code",
   "execution_count": null,
   "metadata": {},
   "outputs": [],
   "source": [
    "np.set_printoptions(precision=3, suppress=False)"
   ]
  },
  {
   "cell_type": "code",
   "execution_count": null,
   "metadata": {},
   "outputs": [],
   "source": [
    "pd.options.display.float_format = '{:,.3g}'.format  # show 3 digits of precision"
   ]
  },
  {
   "cell_type": "code",
   "execution_count": null,
   "metadata": {},
   "outputs": [],
   "source": [
    "import matplotlib.pyplot as plt\n",
    "import seaborn as sns\n",
    "sns.set_style(\"whitegrid\")\n",
    "sns.set_context(\"notebook\", font_scale=1.25)"
   ]
  },
  {
   "cell_type": "code",
   "execution_count": null,
   "metadata": {},
   "outputs": [],
   "source": []
  },
  {
   "cell_type": "markdown",
   "metadata": {},
   "source": [
    "# Part 1: The Probabilistic view of logistic regression"
   ]
  },
  {
   "cell_type": "markdown",
   "metadata": {},
   "source": [
    "### Task: Binary classification\n",
    "\n",
    "Given $N$ observations of *paired* feature-outcome observations: $\\{ x_n, t_n \\}$.\n",
    "\n",
    "* Each input feature $x_n$ is a scalar real: $x_n \\in \\mathbb{R}$\n",
    "* Each output or \"label\" or \"outcome\" $t_n$ is a scalar binary value: $t_n \\in \\{0, 1\\}$\n",
    "\n",
    "We're also given a feature transform function $\\phi$ which maps each $x_n$ to a vector in $M$-dimensional space. This function is known in advance.\n",
    "\n",
    "We want to make good predictions of new outcomes $t_*$ given new features $x_*$.\n",
    "\n"
   ]
  },
  {
   "cell_type": "markdown",
   "metadata": {},
   "source": [
    "## Feature transformation\n",
    "\n",
    "For now, we'll assume that the \"feature transform\" $\\phi(x_n)$ just simply passes along the features $x_n$, while adding an additional offset or \"intercept\" feature that is always 1. This is a *simplifying* assumption for today."
   ]
  },
  {
   "cell_type": "code",
   "execution_count": null,
   "metadata": {},
   "outputs": [],
   "source": [
    "def calc_features(x_N1, M=2):\n",
    "    ''' Transform raw features into complete features useful for prediction\n",
    "    \n",
    "    Could do any non-linear transformations thought relevant for the problem.\n",
    "    Here we'll just do an identity transform with an extra intercept feature.\n",
    "    \n",
    "    Args\n",
    "    ----\n",
    "    x_N1 : 2D array, shape (N, 1) = (n_examples,)\n",
    "    \n",
    "    Returns\n",
    "    -------\n",
    "    phi_NM : 2D array, shape (N, M) = (n_examples, n_transformed_features)\n",
    "        First column will contain all ones (a bias or intercept feature)\n",
    "        Second column will just include the raw features\n",
    "    '''\n",
    "    assert x_N1.ndim == 2\n",
    "    assert x_N1.shape[1] == 1\n",
    "    N = x_N1.shape[0]\n",
    "    phi_NM = np.zeros((N, M))\n",
    "    phi_NM[:,0] = 1\n",
    "    phi_NM[:,1] = x_N1[:,0]\n",
    "    return phi_NM"
   ]
  },
  {
   "cell_type": "code",
   "execution_count": null,
   "metadata": {},
   "outputs": [
    {
     "data": {
      "text/plain": [
       "array([[ 1. , -1. ],\n",
       "       [ 1. , -0.5],\n",
       "       [ 1. ,  0. ],\n",
       "       [ 1. ,  0.5],\n",
       "       [ 1. ,  1. ]])"
      ]
     },
     "execution_count": null,
     "metadata": {},
     "output_type": "execute_result"
    }
   ],
   "source": [
    "x_N1 = np.linspace(-1, 1, 5)[:,np.newaxis]\n",
    "\n",
    "# Get transformed features using our \"calc_features\" function\n",
    "# * first column will be all 1s, an \"intercept\"\n",
    "# * second column will be the x values\n",
    "calc_features(x_N1)"
   ]
  },
  {
   "cell_type": "markdown",
   "metadata": {},
   "source": [
    "## Understanding the logistic sigmoid function\n",
    "\n",
    "As discussed in your pre-recorded lectures, the *logistic sigmoid function* is:\n",
    "\n",
    "\\begin{align}\n",
    "\\sigma(r) = \\frac{1}{1 + e^{-r}}\n",
    "\\end{align}\n",
    "\n",
    "It maps real inputs $r \\in (-\\infty, +\\infty)$ to the probability interval $(0, 1)$.\n",
    "\n",
    "We call it a \"sigmoid\" function because it has an S-shaped curve, which you'll plot below.\n",
    "\n",
    "This function is also sometimes called the \"expit\" function. \n",
    "\n",
    "We can use an existing implementation of this function available in SciPy:\n",
    "\n",
    "* expit: https://docs.scipy.org/doc/scipy/reference/generated/scipy.special.expit.html"
   ]
  },
  {
   "cell_type": "code",
   "execution_count": null,
   "metadata": {},
   "outputs": [],
   "source": [
    "from scipy.special import expit as sigmoid"
   ]
  },
  {
   "cell_type": "code",
   "execution_count": null,
   "metadata": {},
   "outputs": [
    {
     "data": {
      "text/plain": [
       "np.float64(0.5)"
      ]
     },
     "execution_count": null,
     "metadata": {},
     "output_type": "execute_result"
    }
   ],
   "source": [
    "sigmoid(0)"
   ]
  },
  {
   "cell_type": "code",
   "execution_count": null,
   "metadata": {},
   "outputs": [
    {
     "data": {
      "text/plain": [
       "np.float64(0.01798620996209156)"
      ]
     },
     "execution_count": null,
     "metadata": {},
     "output_type": "execute_result"
    }
   ],
   "source": [
    "sigmoid(-4)"
   ]
  },
  {
   "cell_type": "code",
   "execution_count": null,
   "metadata": {},
   "outputs": [
    {
     "data": {
      "text/plain": [
       "np.float64(0.9820137900379085)"
      ]
     },
     "execution_count": null,
     "metadata": {},
     "output_type": "execute_result"
    }
   ],
   "source": [
    "sigmoid(4)"
   ]
  },
  {
   "cell_type": "code",
   "execution_count": null,
   "metadata": {},
   "outputs": [
    {
     "data": {
      "text/plain": [
       "array([0.002, 0.018, 0.119, 0.5  , 0.881, 0.982, 0.998])"
      ]
     },
     "execution_count": null,
     "metadata": {},
     "output_type": "execute_result"
    }
   ],
   "source": [
    "sigmoid(np.asarray([-6, -4, -2, 0, 2, 4, 6]))"
   ]
  },
  {
   "cell_type": "markdown",
   "metadata": {},
   "source": [
    "## Exercise 1a: Plot the logistic sigmoid function \n",
    "\n",
    "We give you an array of G candidate $r$ values below."
   ]
  },
  {
   "cell_type": "code",
   "execution_count": null,
   "metadata": {},
   "outputs": [],
   "source": [
    "G = 101\n",
    "r_G = np.linspace(-8, 8, G)\n",
    "sigmoid_of_r_G = np.zeros(G) # TODO evaluate sigmoid at each r value"
   ]
  },
  {
   "cell_type": "code",
   "execution_count": null,
   "metadata": {},
   "outputs": [
    {
     "data": {
      "text/plain": [
       "(-0.001, 1.001)"
      ]
     },
     "execution_count": null,
     "metadata": {},
     "output_type": "execute_result"
    },
    {
     "data": {
      "image/png": "[encoded data removed]",
      "text/plain": [
       "<Figure size 640x480 with 1 Axes>"
      ]
     },
     "metadata": {},
     "output_type": "display_data"
    }
   ],
   "source": [
    "plt.plot(r_G, sigmoid_of_r_G, 'k.-');\n",
    "plt.xlabel('r'); plt.ylabel('$\\sigma(r)$');\n",
    "plt.ylim([-0.001, 1.001])"
   ]
  },
  {
   "cell_type": "markdown",
   "metadata": {},
   "source": [
    "\n",
    "## Define the Likelihood\n",
    "\n",
    "Each observation (indexed by $n$) is drawn iid from a Bernoulli as follows:\n",
    "\n",
    "$$\n",
    "t_n | w \\sim \\text{BernPMF}\\left( t_n | \\sigma(w^T \\phi(x_n)) \\right)\n",
    "$$\n",
    "\n",
    "where $w \\in \\mathbb{R}^M$ is a weight vector, the same size as our feature vector $\\phi(x_n) \\in \\mathbb{R}^M$\n",
    "\n",
    "The key properties here are:\n",
    "* The *mean* of $t_n$ is a *non-linear activation* of a linear function of the transformed features.\n",
    "\n",
    "## Define the  Prior\n",
    "\n",
    "For now, we'll assume that weights come from a zero mean prior with some covariance determined by a scalar parameter $\\alpha$:\n",
    "\n",
    "$$\n",
    "w \\sim \\mathcal{N}( 0, \\alpha^{-1} I_M )\n",
    "$$\n",
    "\n",
    "A zero mean prior makes sense if we don't know if the slope should be negative or positive.\n",
    "\n",
    "### Parameter we'll treat as a random variable: $w$\n",
    "\n",
    "* Weights vector: $w = [w_1, w_2, \\ldots w_M]^T$, so $w \\in \\mathbb{R}^M$\n",
    "\n",
    "### Parameters we'll treat as fixed: $\\alpha$ \n",
    "\n",
    "* Prior precision $\\alpha > 0$\n",
    "\n",
    "The larger $\\alpha$ is, the more confident we are in the weight values before seeing any data.\n"
   ]
  },
  {
   "cell_type": "markdown",
   "metadata": {},
   "source": [
    "## Create a simple toy data for analysis\n",
    "\n",
    "Just execute the cells below to get the sense of how to generate toy data from this model\n",
    "\n",
    "We'll manually intervene to set the weight vector to a known value. This makes it easy to tell if our learning is working later on."
   ]
  },
  {
   "cell_type": "code",
   "execution_count": null,
   "metadata": {},
   "outputs": [],
   "source": [
    "N = 10  # Number of examples we observe\n",
    "M = 2     # Number of transformed features"
   ]
  },
  {
   "cell_type": "markdown",
   "metadata": {},
   "source": [
    "Create the weight vector we'll use to generate our dataset. Set an intercept of 1.2 and a slope of -0.75"
   ]
  },
  {
   "cell_type": "code",
   "execution_count": null,
   "metadata": {},
   "outputs": [],
   "source": [
    "true_w_M = np.asarray([0.1, -0.25])"
   ]
  },
  {
   "cell_type": "markdown",
   "metadata": {},
   "source": [
    "Create a \"true\" alpha value which controls the prior precision"
   ]
  },
  {
   "cell_type": "code",
   "execution_count": null,
   "metadata": {},
   "outputs": [],
   "source": [
    "true_alpha = 0.01"
   ]
  },
  {
   "cell_type": "markdown",
   "metadata": {},
   "source": [
    "Create observed features $x$ and observed outputs $t$ manually"
   ]
  },
  {
   "cell_type": "code",
   "execution_count": null,
   "metadata": {},
   "outputs": [],
   "source": [
    "x_N1 = np.asarray([-5, -0.8, -0.7, -0.6, -0.4, 0.5, 0.8, 0.9, 4.3, 4.1]).reshape((N, 1))\n",
    "phi_NM = calc_features(x_N1)"
   ]
  },
  {
   "cell_type": "code",
   "execution_count": null,
   "metadata": {},
   "outputs": [],
   "source": [
    "prng = np.random.RandomState(101) # reproducible random seed"
   ]
  },
  {
   "cell_type": "code",
   "execution_count": null,
   "metadata": {},
   "outputs": [],
   "source": [
    "t_N = (prng.rand(N) < sigmoid(np.matmul(phi_NM, true_w_M))).astype(np.float64)"
   ]
  },
  {
   "cell_type": "markdown",
   "metadata": {},
   "source": [
    "## Visualize the toy dataset"
   ]
  },
  {
   "cell_type": "code",
   "execution_count": null,
   "metadata": {},
   "outputs": [
    {
     "data": {
      "image/png": "[encoded data removed]",
      "text/plain": [
       "<Figure size 640x480 with 1 Axes>"
      ]
     },
     "metadata": {},
     "output_type": "display_data"
    }
   ],
   "source": [
    "plt.plot(x_N1, t_N, 'k.');\n",
    "\n",
    "ax_h = plt.gca()\n",
    "ax_h.set_xlim([-8, 8]); ax_h.set_xticks([-6, -4, -2, 0, 2, 4, 6]);\n",
    "ax_h.set_ylim([-.1, 1.1]);\n",
    "\n",
    "xgrid_G1 = np.linspace(-8, 8, 100)[:,np.newaxis]\n",
    "plt.plot(xgrid_G1, sigmoid(np.matmul(calc_features(xgrid_G1), true_w_M)), 'c-', linewidth=3);\n",
    "\n",
    "plt.xlabel('input: x');\n",
    "plt.ylabel('output: t');\n",
    "plt.title(\"Toy Data\\n true_slope %.2f \\n true intercept %.2f\" % (\n",
    "    true_w_M[1], true_w_M[0]));"
   ]
  },
  {
   "cell_type": "markdown",
   "metadata": {},
   "source": [
    "## Discussion 1b: What about this observed dataset of 10 points would prefer a *negative* slope vs. a positive slope?"
   ]
  },
  {
   "cell_type": "code",
   "execution_count": null,
   "metadata": {},
   "outputs": [],
   "source": [
    "# TODO discuss"
   ]
  },
  {
   "cell_type": "markdown",
   "metadata": {},
   "source": [
    "# Part 2: MAP estimation : View as optimization problem"
   ]
  },
  {
   "cell_type": "markdown",
   "metadata": {},
   "source": [
    "There is NO closed form for the posterior over weights $p( w | t)$. \n",
    "\n",
    "However, we can evaluate (and thus optimize) the MAP objective, since this doesn't require knowing the full posterior.\n",
    "\n",
    "Let's see how. Begin with the MAP optimization problem:\n",
    "\n",
    "\\begin{align}\n",
    "    w^* = \\arg \\max_{w \\in \\mathbb{R}^M} ~~ p( w | t_{1:N} )\n",
    "\\end{align}\n",
    "\n",
    "Rewriting using the log of the objective for tractability and simplifying via Bayes rule, we get the objective function to maximize is:\n",
    "\n",
    "\\begin{align}\n",
    "\\mathcal{M}(w) &= \\log p( w | t_{1:N})\n",
    "    \\\\\n",
    "    &= \\log p( w ) + \\log p( t_{1:N} | w ) - \\underbrace{\\log p(t_{1:N})}_{\\text{const wrt}~ w}\n",
    "\\end{align}\n",
    "\n",
    "Thus, we can simply ignore the constant term, and maximize the following alternative objective:\n",
    "\\begin{align}\n",
    "  \\mathcal{M}'(w)  &= \\log \\text{MVNormPDF}( w | 0, \\alpha^{-1} I_M ) + \\sum_{n=1}^N \\log \\text{BernPMF}( t_n | \\sigma(w^T \\phi(x_n) ) \n",
    "\\end{align}\n",
    "\n",
    "Finally, we can *standardize* our problem by transforming so we *minimize* rather than *maximize*, just by multiplying by -1. Now the *loss* function we wish to minimize is:\n",
    "\n",
    "\\begin{align}\n",
    "  \\mathcal{L}(w)  &= - \\log \\text{MVNormPDF}( w | 0, \\alpha^{-1} I_M ) - \\sum_{n=1}^N \\log \\text{BernPMF}( t_n | \\sigma(w^T \\phi(x_n) ) \n",
    "\\end{align}\n",
    "\n",
    "Thus, we can find our optimal weights $w^*$ via:\n",
    "\n",
    "\\begin{align}\n",
    "    w^* = \\arg \\min_{w \\in \\mathbb{R}^M} ~~ \\mathcal{L}(w)\n",
    "\\end{align}"
   ]
  },
  {
   "cell_type": "markdown",
   "metadata": {},
   "source": [
    "How can we compute each of these terms?\n",
    "\n",
    "* Use `scipy.stats.multivariate_normal.logpdf` to evaluate the log prior PDF $\\log \\text{MVNormPDF}(\\cdot)$\n",
    "* For the likelihood pdf, use this formula:\n",
    "\n",
    "$$\n",
    "\\sum_{n=1}^N \\log \\text{BernPMF}(t_n | p_n ) = \\sum_{n=1}^N t_n \\log p_n + (1-t_n) \\log (1 - p_n)\n",
    "$$\n",
    "\n",
    "This is translated into the code below. "
   ]
  },
  {
   "cell_type": "code",
   "execution_count": null,
   "metadata": {},
   "outputs": [],
   "source": [
    "def calc_sum_of_log_bern_pmf(t_N, p_N):\n",
    "    ''' Calculate the log of the bernoulli pmf for N observations\n",
    "    \n",
    "    Args\n",
    "    ----\n",
    "    t_N : 1D array, shape (N,)\n",
    "        Binary value (0 or 1) for each example n\n",
    "    p_N : 1D array, shape (N,)\n",
    "        Probability parameter of the Bernoulli for each example n\n",
    "        \n",
    "    Returns\n",
    "    -------\n",
    "    summed_logpmf : scalar float\n",
    "        Summed log PMF over all N examples given\n",
    "    '''\n",
    "    # Make sure provided probabilities are not hard 0 or hard 1\n",
    "    # so that the log values will not be numerically bad\n",
    "    safe_p_N = np.minimum(np.maximum(p_N, 1e-100), 1 - 1e-13)\n",
    "    return np.sum(np.log(safe_p_N)[t_N==1]) + np.sum(np.log(1-safe_p_N)[t_N==0])"
   ]
  },
  {
   "cell_type": "markdown",
   "metadata": {},
   "source": [
    "## Exercise 2a: Compute the objective of our minimization problem\n",
    "\n",
    "Translate the formula for $\\mathcal{L}(w)$ above into concrete NumPy expressions"
   ]
  },
  {
   "cell_type": "code",
   "execution_count": null,
   "metadata": {},
   "outputs": [],
   "source": [
    "def calc_loss(wguess_M, phi_NM, t_N, alpha=0.1):\n",
    "    ''' Compute the MAP loss objective function.\n",
    "    \n",
    "    The loss is equal to the negative log prior plus negative log likelihood\n",
    "    \n",
    "    Args\n",
    "    ----\n",
    "    w_M : 1D array, shape (M,)\n",
    "        Weight parameter at which we want to evaluate the loss\n",
    "    phi_NM : 2D array, shape (N,M)\n",
    "        Observed input features\n",
    "        Each row is a feature vector for one example\n",
    "    t_N : 1D array, shape (N,)\n",
    "        Observed outputs\n",
    "        Each row is a output scalar value for one example\n",
    "    alpha : positive scalar\n",
    "        Prior precision\n",
    "    \n",
    "    Returns\n",
    "    -------\n",
    "    loss : scalar float\n",
    "        The value of the loss function at provided w value\n",
    "    '''\n",
    "    log_prior_pdf = 0.0 # TODO compute log prior pdf value\n",
    "    log_lik_pdf = 0.0 # TODO compute log likelihood pdf value\n",
    "    \n",
    "    return -1 * log_prior_pdf + -1 * log_lik_pdf"
   ]
  },
  {
   "cell_type": "markdown",
   "metadata": {},
   "source": [
    "### Solution"
   ]
  },
  {
   "cell_type": "code",
   "execution_count": null,
   "metadata": {},
   "outputs": [],
   "source": [
    "def calc_loss(wguess_M, phi_NM, t_N, alpha=0.1):\n",
    "    ''' Compute the negative log prior plus negative log likelihood\n",
    "    \n",
    "    Args\n",
    "    ----\n",
    "    w_M : 1D array, shape (M,)\n",
    "        Weight parameter at which we want to evaluate the MAP objective\n",
    "    phi_NM : 2D array, shape (N,M)\n",
    "        Each row is a feature vector for one example\n",
    "    t_N : 1D array, shape (N,)\n",
    "        Each row is a output scalar value for one example\n",
    "    alpha : positive scalar\n",
    "        Prior precision\n",
    "    \n",
    "    Returns\n",
    "    -------\n",
    "    \n",
    "    '''\n",
    "    log_prior_pdf = scipy.stats.multivariate_normal.logpdf(wguess_M, np.zeros(M), 1.0/alpha * np.eye(M)) \n",
    "    log_lik_pdf = calc_sum_of_log_bern_pmf(t_N, sigmoid(np.matmul(phi_NM, wguess_M)))\n",
    "    \n",
    "    return -1 * log_prior_pdf + -1 * log_lik_pdf"
   ]
  },
  {
   "cell_type": "markdown",
   "metadata": {},
   "source": [
    "## Exercise 2b: Evaluate the MAP objective (aka MAP loss function) at possible w values\n"
   ]
  },
  {
   "cell_type": "code",
   "execution_count": null,
   "metadata": {},
   "outputs": [
    {
     "data": {
      "text/plain": [
       "array([[ 1. , -5. ],\n",
       "       [ 1. , -0.8],\n",
       "       [ 1. , -0.7],\n",
       "       [ 1. , -0.6],\n",
       "       [ 1. , -0.4],\n",
       "       [ 1. ,  0.5],\n",
       "       [ 1. ,  0.8],\n",
       "       [ 1. ,  0.9],\n",
       "       [ 1. ,  4.3],\n",
       "       [ 1. ,  4.1]])"
      ]
     },
     "execution_count": null,
     "metadata": {},
     "output_type": "execute_result"
    }
   ],
   "source": [
    "phi_NM"
   ]
  },
  {
   "cell_type": "code",
   "execution_count": null,
   "metadata": {},
   "outputs": [
    {
     "data": {
      "text/plain": [
       "array([1., 1., 1., 1., 0., 0., 1., 0., 0., 1.])"
      ]
     },
     "execution_count": null,
     "metadata": {},
     "output_type": "execute_result"
    }
   ],
   "source": [
    "t_N"
   ]
  },
  {
   "cell_type": "code",
   "execution_count": null,
   "metadata": {},
   "outputs": [
    {
     "data": {
      "text/plain": [
       "np.float64(-0.6931471805599453)"
      ]
     },
     "execution_count": null,
     "metadata": {},
     "output_type": "execute_result"
    }
   ],
   "source": [
    "np.log(0.5)"
   ]
  },
  {
   "cell_type": "code",
   "execution_count": null,
   "metadata": {},
   "outputs": [
    {
     "data": {
      "text/plain": [
       "np.float64(13.374519057996888)"
      ]
     },
     "execution_count": null,
     "metadata": {},
     "output_type": "execute_result"
    }
   ],
   "source": [
    "# Try with all zero weights\n",
    "w1_M = np.zeros(M)\n",
    "calc_loss(w1_M, phi_NM, t_N, true_alpha)"
   ]
  },
  {
   "cell_type": "code",
   "execution_count": null,
   "metadata": {},
   "outputs": [
    {
     "data": {
      "text/plain": [
       "np.float64(117.57248385900087)"
      ]
     },
     "execution_count": null,
     "metadata": {},
     "output_type": "execute_result"
    }
   ],
   "source": [
    "# Try with all weights set to 10\n",
    "w2_M = 10 * np.ones(M)\n",
    "calc_loss(w2_M, phi_NM, t_N, true_alpha)"
   ]
  },
  {
   "cell_type": "code",
   "execution_count": null,
   "metadata": {},
   "outputs": [],
   "source": [
    "# Try with all weights set to TRUE values\n",
    "\n",
    "# TODO write code using calc_loss(...)"
   ]
  },
  {
   "cell_type": "markdown",
   "metadata": {},
   "source": [
    "### Solution"
   ]
  },
  {
   "cell_type": "code",
   "execution_count": null,
   "metadata": {},
   "outputs": [
    {
     "data": {
      "text/plain": [
       "np.float64(12.804182028993978)"
      ]
     },
     "execution_count": null,
     "metadata": {},
     "output_type": "execute_result"
    }
   ],
   "source": [
    "calc_loss(true_w_M, phi_NM, t_N, true_alpha)"
   ]
  },
  {
   "cell_type": "markdown",
   "metadata": {},
   "source": [
    "## Discussion 2c: Which value of the weight vector out of the 3 tried had the \"best\" loss  value? Does that agree with what you expect?\n",
    "\n",
    "Use what you know about how this toy dataset was generated (hint: we know which weights were used to make the true observations)."
   ]
  },
  {
   "cell_type": "code",
   "execution_count": null,
   "metadata": {},
   "outputs": [],
   "source": [
    "# TODO discuss"
   ]
  },
  {
   "cell_type": "markdown",
   "metadata": {},
   "source": [
    "## Demo: Visualizing the MAP objective as a contour plot\n",
    "\n",
    "Step through the code below to see how we create a 2d contour plot visualization of our MAP optimization problem."
   ]
  },
  {
   "cell_type": "code",
   "execution_count": null,
   "metadata": {},
   "outputs": [],
   "source": [
    "# Create a 2-dim grid of possible w values\n",
    "\n",
    "G = 51 # G possible values for intercept\n",
    "w0_grid_G = np.linspace(-2, 2, G)\n",
    "\n",
    "H = 51 # H possible values for slope\n",
    "w1_grid_H = np.linspace(-2, 2, H)\n",
    "\n",
    "w0_GH, w1_GH = np.meshgrid(w0_grid_G, w1_grid_H,)"
   ]
  },
  {
   "cell_type": "code",
   "execution_count": null,
   "metadata": {},
   "outputs": [],
   "source": [
    "# Compute loss at each possible value in our grid\n",
    "loss_GH = np.zeros((G, H))\n",
    "for gg in range(G):\n",
    "    for hh in range(H):\n",
    "        cur_w_M = np.hstack([w0_GH[gg,hh], w1_GH[gg, hh]])        \n",
    "        loss_GH[gg, hh] = calc_loss(cur_w_M, phi_NM, t_N, true_alpha)\n"
   ]
  },
  {
   "cell_type": "code",
   "execution_count": null,
   "metadata": {},
   "outputs": [
    {
     "data": {
      "image/png": "[encoded data removed]",
      "text/plain": [
       "<Figure size 800x800 with 2 Axes>"
      ]
     },
     "metadata": {},
     "output_type": "display_data"
    }
   ],
   "source": [
    "# Create a pretty contour plot over the grid of w[0], w[1], loss values\n",
    "\n",
    "levels = np.linspace(0, 40, 51) # 50 evenly spaced levels\n",
    "\n",
    "fig_handle, ax_handle = plt.subplots(nrows=1, ncols=1, figsize=(8,8));\n",
    "\n",
    "ax_handle.contour(w0_GH, w1_GH, loss_GH, levels=levels, linewidths=0, colors='k')\n",
    "cntrf_handle = ax_handle.contourf(w0_GH, w1_GH, loss_GH, levels=levels, cmap='RdBu_r', vmin=levels[0], vmax=levels[-1]);\n",
    "\n",
    "cbar = plt.colorbar(cntrf_handle, ax=ax_handle)\n",
    "cbar.set_label('MAP loss objective (lower is better)', fontsize=16);\n",
    "cbar.set_ticks(levels[::10]);\n",
    "plt.xlabel('intercept   $w_1$');\n",
    "plt.ylabel('slope   $w_2$');\n",
    "plt.gca().set_aspect('equal', 'box');"
   ]
  },
  {
   "cell_type": "markdown",
   "metadata": {},
   "source": [
    "## Exercise 2d: Visually interpret the plot above. By inspection, which intercept and slope values are optimal? What is the loss at this optimal point?"
   ]
  },
  {
   "cell_type": "code",
   "execution_count": null,
   "metadata": {},
   "outputs": [],
   "source": [
    "# TODO interpret the plot and discuss with your group"
   ]
  },
  {
   "cell_type": "markdown",
   "metadata": {},
   "source": [
    "## Exercise 2e: Numerically, search the grid of computed loss values `loss_GH` and determine the MAP value of weight vector"
   ]
  },
  {
   "cell_type": "code",
   "execution_count": null,
   "metadata": {},
   "outputs": [],
   "source": [
    "# TODO solve this cell\n",
    "\n",
    "# Hint: you might find it easier to flatten each array of shape (G,H) into shape (L,) where L=G*H\n",
    "loss_L = loss_GH.flatten()# new shape (G*H,)\n",
    "w0_L = w0_GH.flatten()  # new shape (G*H,)\n",
    "w1_L = w1_GH.flatten()  # new shape (G*H,)\n",
    "\n",
    "# TODO find values of w0 (intercept) and w1 (slope) that minimize the loss"
   ]
  },
  {
   "cell_type": "markdown",
   "metadata": {},
   "source": [
    "### Solution"
   ]
  },
  {
   "cell_type": "code",
   "execution_count": null,
   "metadata": {},
   "outputs": [],
   "source": [
    "bestid = loss_L.argmin()\n",
    "w0_best = w0_L[bestid]\n",
    "w1_best = w1_L[bestid]\n",
    "w_best_M = np.hstack([w0_best, w1_best])"
   ]
  },
  {
   "cell_type": "code",
   "execution_count": null,
   "metadata": {},
   "outputs": [
    {
     "name": "stdout",
     "output_type": "stream",
     "text": [
      "[ 0.56 -0.32]\n"
     ]
    }
   ],
   "source": [
    "print(w_best_M)"
   ]
  },
  {
   "cell_type": "markdown",
   "metadata": {},
   "source": [
    "# Part 3: Gradients, Hessians, and Gradient Descent\n",
    "\n",
    "### Gradient and Hessian formulas\n",
    "\n",
    "We saw in lecture that we can compute the gradient and Hessian as:\n",
    "\n",
    "\\begin{align}\n",
    "\\nabla_w \\mathcal{L} &= \\Phi^T ( \\sigma(\\Phi w) - t ) + \\alpha w\n",
    "\\\\\n",
    "\\nabla_w \\nabla_w \\mathcal{L} &= \\Phi^T R(w) \\Phi  + \\alpha I_M\n",
    "\\end{align}\n",
    "\n",
    "where $R$ is a diagonal matrix given by \n",
    "\n",
    "$$\n",
    "R = \\text{diag}( \\sigma(\\Phi w) \\sigma(- \\Phi w ) )\n",
    "$$\n",
    "\n",
    "The functions below compute the gradient and Hessian. You don't need to do anything, just inspect them to gain understanding."
   ]
  },
  {
   "cell_type": "code",
   "execution_count": null,
   "metadata": {},
   "outputs": [],
   "source": [
    "def calc_R(w_M, phi_NM):\n",
    "    s_N = np.matmul(phi_NM, w_M)\n",
    "    R_NN = np.diag( sigmoid(s_N) * sigmoid(-s_N) )\n",
    "    return R_NN"
   ]
  },
  {
   "cell_type": "code",
   "execution_count": null,
   "metadata": {},
   "outputs": [],
   "source": [
    "def calc_gradient_of_map_loss(w_M, phi_NM, t_N, alpha):\n",
    "    ''' Calculate the gradient.\n",
    "    \n",
    "    Returns\n",
    "    -------\n",
    "    g_M : 1D array, shape (M,)\n",
    "        Gradient vector evaluated at current weights w\n",
    "    '''\n",
    "    # Compute predicted probability of positive class\n",
    "    yproba_N = sigmoid( np.matmul(phi_NM, w_M) )\n",
    "    return np.matmul(phi_NM.T, (yproba_N - t_N)) + alpha * w_M"
   ]
  },
  {
   "cell_type": "code",
   "execution_count": null,
   "metadata": {},
   "outputs": [],
   "source": [
    "def calc_hessian_of_map_loss(w_M, phi_NM, t_N, alpha):\n",
    "    ''' Calculate the Hessian.\n",
    "    \n",
    "    Returns\n",
    "    -------\n",
    "    H_MM : 2D array, shape (M,M)\n",
    "        Hessian matrix evaluated at current weights w\n",
    "    '''\n",
    "    R_NN = calc_R(w_M, phi_NM)\n",
    "    return np.matmul(phi_NM.T, np.matmul(R_NN, phi_NM)) + alpha * np.eye(M)"
   ]
  },
  {
   "cell_type": "markdown",
   "metadata": {},
   "source": [
    "## First-order gradient descent\n",
    "\n",
    "The code below performs 1st-order GD. \n",
    "\n",
    "While not converged, we perform the updates:\n",
    "\n",
    "$$\n",
    "w_{t+1} \\gets w_t - \\epsilon g( w_t )\n",
    "$$"
   ]
  },
  {
   "cell_type": "code",
   "execution_count": null,
   "metadata": {},
   "outputs": [
    {
     "name": "stdout",
     "output_type": "stream",
     "text": [
      "step   0/100  loss     13.3582 | gradient_norm   12.4385 | intercept     1.231 | slope    -0.719\n",
      "step   1/100  loss     12.9273 | gradient_norm    2.8867 | intercept     1.098 | slope    -0.275\n",
      "step   2/100  loss     12.8019 | gradient_norm    2.4277 | intercept     0.878 | slope    -0.516\n",
      "step   3/100  loss     12.6890 | gradient_norm    1.7594 | intercept     0.815 | slope    -0.262\n",
      "step   4/100  loss     12.6510 | gradient_norm    1.5637 | intercept     0.708 | slope    -0.423\n",
      "step   5/100  loss     12.6150 | gradient_norm    1.0530 | intercept     0.683 | slope    -0.278\n",
      "step   6/100  loss     12.6012 | gradient_norm    0.8692 | intercept     0.634 | slope    -0.363\n",
      "step   7/100  loss     12.5921 | gradient_norm    0.5274 | intercept     0.620 | slope    -0.299\n",
      "step   8/100  loss     12.5887 | gradient_norm    0.3724 | intercept     0.599 | slope    -0.330\n",
      "step   9/100  loss     12.5872 | gradient_norm    0.2076 | intercept     0.590 | slope    -0.311\n",
      "step  10/100  loss     12.5866 | gradient_norm    0.1210 | intercept     0.581 | slope    -0.317\n",
      "step  11/100  loss     12.5863 | gradient_norm    0.0752 | intercept     0.575 | slope    -0.313\n",
      "step  12/100  loss     12.5862 | gradient_norm    0.0413 | intercept     0.571 | slope    -0.313\n",
      "step  13/100  loss     12.5861 | gradient_norm    0.0350 | intercept     0.568 | slope    -0.313\n",
      "step  14/100  loss     12.5860 | gradient_norm    0.0247 | intercept     0.565 | slope    -0.312\n",
      "step  15/100  loss     12.5860 | gradient_norm    0.0202 | intercept     0.563 | slope    -0.312\n",
      "step  16/100  loss     12.5860 | gradient_norm    0.0161 | intercept     0.562 | slope    -0.312\n",
      "step  17/100  loss     12.5860 | gradient_norm    0.0130 | intercept     0.561 | slope    -0.312\n",
      "step  18/100  loss     12.5860 | gradient_norm    0.0107 | intercept     0.560 | slope    -0.312\n",
      "step  19/100  loss     12.5860 | gradient_norm    0.0089 | intercept     0.560 | slope    -0.311\n",
      "step  20/100  loss     12.5860 | gradient_norm    0.0074 | intercept     0.559 | slope    -0.311\n",
      "step  21/100  loss     12.5860 | gradient_norm    0.0063 | intercept     0.559 | slope    -0.311\n",
      "step  22/100  loss     12.5860 | gradient_norm    0.0053 | intercept     0.558 | slope    -0.311\n",
      "step  23/100  loss     12.5860 | gradient_norm    0.0045 | intercept     0.558 | slope    -0.311\n",
      "step  24/100  loss     12.5860 | gradient_norm    0.0039 | intercept     0.558 | slope    -0.311\n",
      "step  25/100  loss     12.5860 | gradient_norm    0.0034 | intercept     0.558 | slope    -0.311\n",
      "step  26/100  loss     12.5860 | gradient_norm    0.0030 | intercept     0.557 | slope    -0.311\n",
      "step  27/100  loss     12.5860 | gradient_norm    0.0026 | intercept     0.557 | slope    -0.311\n",
      "step  28/100  loss     12.5860 | gradient_norm    0.0023 | intercept     0.557 | slope    -0.311\n",
      "step  29/100  loss     12.5860 | gradient_norm    0.0021 | intercept     0.557 | slope    -0.311\n",
      "step  30/100  loss     12.5860 | gradient_norm    0.0019 | intercept     0.557 | slope    -0.311\n",
      "step  31/100  loss     12.5860 | gradient_norm    0.0017 | intercept     0.557 | slope    -0.311\n",
      "step  32/100  loss     12.5860 | gradient_norm    0.0015 | intercept     0.557 | slope    -0.311\n",
      "step  33/100  loss     12.5860 | gradient_norm    0.0014 | intercept     0.557 | slope    -0.311\n",
      "step  34/100  loss     12.5860 | gradient_norm    0.0013 | intercept     0.557 | slope    -0.311\n",
      "step  35/100  loss     12.5860 | gradient_norm    0.0011 | intercept     0.557 | slope    -0.311\n",
      "step  36/100  loss     12.5860 | gradient_norm    0.0011 | intercept     0.557 | slope    -0.311\n",
      "step  37/100  loss     12.5860 | gradient_norm    0.0010 | intercept     0.557 | slope    -0.311\n",
      "step  38/100  loss     12.5860 | gradient_norm    0.0009 | intercept     0.557 | slope    -0.311\n",
      "step  39/100  loss     12.5860 | gradient_norm    0.0008 | intercept     0.557 | slope    -0.311\n",
      "step  40/100  loss     12.5860 | gradient_norm    0.0008 | intercept     0.557 | slope    -0.311\n",
      "step  41/100  loss     12.5860 | gradient_norm    0.0007 | intercept     0.557 | slope    -0.311\n",
      "step  42/100  loss     12.5860 | gradient_norm    0.0007 | intercept     0.556 | slope    -0.311\n",
      "step  43/100  loss     12.5860 | gradient_norm    0.0007 | intercept     0.556 | slope    -0.311\n",
      "step  44/100  loss     12.5860 | gradient_norm    0.0006 | intercept     0.556 | slope    -0.311\n",
      "step  45/100  loss     12.5860 | gradient_norm    0.0006 | intercept     0.556 | slope    -0.311\n",
      "step  46/100  loss     12.5860 | gradient_norm    0.0006 | intercept     0.556 | slope    -0.311\n",
      "step  47/100  loss     12.5860 | gradient_norm    0.0005 | intercept     0.556 | slope    -0.311\n",
      "step  48/100  loss     12.5860 | gradient_norm    0.0005 | intercept     0.556 | slope    -0.311\n",
      "step  49/100  loss     12.5860 | gradient_norm    0.0005 | intercept     0.556 | slope    -0.311\n",
      "step  50/100  loss     12.5860 | gradient_norm    0.0005 | intercept     0.556 | slope    -0.311\n",
      "step  51/100  loss     12.5860 | gradient_norm    0.0004 | intercept     0.556 | slope    -0.311\n",
      "step  52/100  loss     12.5860 | gradient_norm    0.0004 | intercept     0.556 | slope    -0.311\n",
      "step  53/100  loss     12.5860 | gradient_norm    0.0004 | intercept     0.556 | slope    -0.311\n",
      "step  54/100  loss     12.5860 | gradient_norm    0.0004 | intercept     0.556 | slope    -0.311\n",
      "step  55/100  loss     12.5860 | gradient_norm    0.0004 | intercept     0.556 | slope    -0.311\n",
      "step  56/100  loss     12.5860 | gradient_norm    0.0004 | intercept     0.556 | slope    -0.311\n",
      "step  57/100  loss     12.5860 | gradient_norm    0.0004 | intercept     0.556 | slope    -0.311\n",
      "step  58/100  loss     12.5860 | gradient_norm    0.0004 | intercept     0.556 | slope    -0.311\n",
      "step  59/100  loss     12.5860 | gradient_norm    0.0003 | intercept     0.556 | slope    -0.311\n",
      "step  60/100  loss     12.5860 | gradient_norm    0.0003 | intercept     0.556 | slope    -0.311\n",
      "step  61/100  loss     12.5860 | gradient_norm    0.0003 | intercept     0.556 | slope    -0.311\n",
      "step  62/100  loss     12.5860 | gradient_norm    0.0003 | intercept     0.556 | slope    -0.311\n",
      "step  63/100  loss     12.5860 | gradient_norm    0.0003 | intercept     0.556 | slope    -0.311\n",
      "step  64/100  loss     12.5860 | gradient_norm    0.0003 | intercept     0.556 | slope    -0.311\n",
      "step  65/100  loss     12.5860 | gradient_norm    0.0003 | intercept     0.556 | slope    -0.311\n",
      "step  66/100  loss     12.5860 | gradient_norm    0.0003 | intercept     0.556 | slope    -0.311\n",
      "step  67/100  loss     12.5860 | gradient_norm    0.0003 | intercept     0.556 | slope    -0.311\n",
      "step  68/100  loss     12.5860 | gradient_norm    0.0003 | intercept     0.556 | slope    -0.311\n",
      "step  69/100  loss     12.5860 | gradient_norm    0.0003 | intercept     0.556 | slope    -0.311\n",
      "step  70/100  loss     12.5860 | gradient_norm    0.0003 | intercept     0.556 | slope    -0.311\n",
      "step  71/100  loss     12.5860 | gradient_norm    0.0003 | intercept     0.556 | slope    -0.311\n",
      "step  72/100  loss     12.5860 | gradient_norm    0.0003 | intercept     0.556 | slope    -0.311\n",
      "step  73/100  loss     12.5860 | gradient_norm    0.0003 | intercept     0.556 | slope    -0.311\n",
      "step  74/100  loss     12.5860 | gradient_norm    0.0003 | intercept     0.556 | slope    -0.311\n",
      "step  75/100  loss     12.5860 | gradient_norm    0.0003 | intercept     0.556 | slope    -0.311\n",
      "step  76/100  loss     12.5860 | gradient_norm    0.0003 | intercept     0.556 | slope    -0.311\n",
      "step  77/100  loss     12.5860 | gradient_norm    0.0002 | intercept     0.556 | slope    -0.311\n",
      "step  78/100  loss     12.5860 | gradient_norm    0.0002 | intercept     0.556 | slope    -0.311\n",
      "step  79/100  loss     12.5860 | gradient_norm    0.0002 | intercept     0.556 | slope    -0.311\n",
      "step  80/100  loss     12.5860 | gradient_norm    0.0002 | intercept     0.556 | slope    -0.311\n",
      "step  81/100  loss     12.5860 | gradient_norm    0.0002 | intercept     0.556 | slope    -0.311\n",
      "step  82/100  loss     12.5860 | gradient_norm    0.0002 | intercept     0.556 | slope    -0.311\n",
      "step  83/100  loss     12.5860 | gradient_norm    0.0002 | intercept     0.556 | slope    -0.311\n",
      "step  84/100  loss     12.5860 | gradient_norm    0.0002 | intercept     0.556 | slope    -0.311\n",
      "step  85/100  loss     12.5860 | gradient_norm    0.0002 | intercept     0.556 | slope    -0.311\n",
      "step  86/100  loss     12.5860 | gradient_norm    0.0002 | intercept     0.556 | slope    -0.311\n",
      "step  87/100  loss     12.5860 | gradient_norm    0.0002 | intercept     0.556 | slope    -0.311\n",
      "step  88/100  loss     12.5860 | gradient_norm    0.0002 | intercept     0.556 | slope    -0.311\n",
      "step  89/100  loss     12.5860 | gradient_norm    0.0002 | intercept     0.556 | slope    -0.311\n",
      "step  90/100  loss     12.5860 | gradient_norm    0.0002 | intercept     0.556 | slope    -0.311\n",
      "step  91/100  loss     12.5860 | gradient_norm    0.0002 | intercept     0.556 | slope    -0.311\n",
      "step  92/100  loss     12.5860 | gradient_norm    0.0002 | intercept     0.556 | slope    -0.311\n",
      "step  93/100  loss     12.5860 | gradient_norm    0.0002 | intercept     0.556 | slope    -0.311\n",
      "step  94/100  loss     12.5860 | gradient_norm    0.0002 | intercept     0.556 | slope    -0.311\n",
      "step  95/100  loss     12.5860 | gradient_norm    0.0002 | intercept     0.556 | slope    -0.311\n",
      "step  96/100  loss     12.5860 | gradient_norm    0.0002 | intercept     0.556 | slope    -0.311\n",
      "step  97/100  loss     12.5860 | gradient_norm    0.0002 | intercept     0.556 | slope    -0.311\n",
      "step  98/100  loss     12.5860 | gradient_norm    0.0002 | intercept     0.556 | slope    -0.311\n",
      "step  99/100  loss     12.5860 | gradient_norm    0.0002 | intercept     0.556 | slope    -0.311\n"
     ]
    }
   ],
   "source": [
    "max_n_steps = 100\n",
    "\n",
    "w_M = 1.5 * np.ones(M)\n",
    "\n",
    "step_size = 0.2 # Selected by starting at 1.0, and trying smaller values until first 5 steps made loss better\n",
    "\n",
    "GD1_history_of_w = [w_M]\n",
    "GD1_history_of_loss = [calc_loss(w_M, phi_NM, t_N, true_alpha)]\n",
    "\n",
    "for step in range(max_n_steps):\n",
    "    \n",
    "    # Compute gradient\n",
    "    g_M = calc_gradient_of_map_loss(w_M, phi_NM, t_N, true_alpha)\n",
    "\n",
    "    # Update the weights by taking a step downhill\n",
    "    w_M = w_M - step_size * g_M\n",
    "    \n",
    "    # Print out progress\n",
    "    cur_loss = calc_loss(w_M, phi_NM, t_N, true_alpha)\n",
    "    print(\"step %3d/%d  loss %11.4f | gradient_norm %9.4f | intercept %9.3f | slope %9.3f\" % (\n",
    "        step, max_n_steps, cur_loss, np.sum(np.abs(g_M)), w_M[0], w_M[1]))\n",
    "    GD1_history_of_loss.append(cur_loss)\n",
    "    GD1_history_of_w.append(w_M)\n",
    "    \n",
    "    if step % 10:\n",
    "        step_size = 0.95 * step_size  # slowly decay the step size\n",
    "        \n",
    "bestw_fromGD_M = w_M"
   ]
  },
  {
   "cell_type": "markdown",
   "metadata": {},
   "source": [
    "## Discussion 3a: Compare the GD estimate of the best weights $w$ to those found via grid search\n"
   ]
  },
  {
   "cell_type": "code",
   "execution_count": null,
   "metadata": {},
   "outputs": [
    {
     "name": "stdout",
     "output_type": "stream",
     "text": [
      "Optimal weights via grid search\n",
      "[ 0.56 -0.32]\n",
      "Optimal weights via 1st order gradient descent\n",
      "[ 0.556 -0.311]\n"
     ]
    }
   ],
   "source": [
    "print(\"Optimal weights via grid search\")\n",
    "bestid = np.argmin(loss_GH.flatten())\n",
    "bestw_fromgridsearch_M = np.asarray([w0_GH.flatten()[bestid], w1_GH.flatten()[bestid]])\n",
    "print(bestw_fromgridsearch_M)\n",
    "\n",
    "print(\"Optimal weights via 1st order gradient descent\")\n",
    "print(w_M)"
   ]
  },
  {
   "cell_type": "code",
   "execution_count": null,
   "metadata": {},
   "outputs": [
    {
     "data": {
      "text/plain": [
       "np.float64(12.586377290924254)"
      ]
     },
     "execution_count": null,
     "metadata": {},
     "output_type": "execute_result"
    }
   ],
   "source": [
    " calc_loss(bestw_fromgridsearch_M, phi_NM, t_N, true_alpha)"
   ]
  },
  {
   "cell_type": "code",
   "execution_count": null,
   "metadata": {},
   "outputs": [
    {
     "data": {
      "text/plain": [
       "np.float64(12.58596121296004)"
      ]
     },
     "execution_count": null,
     "metadata": {},
     "output_type": "execute_result"
    }
   ],
   "source": [
    " calc_loss(bestw_fromGD_M, phi_NM, t_N, true_alpha)"
   ]
  },
  {
   "cell_type": "code",
   "execution_count": null,
   "metadata": {},
   "outputs": [],
   "source": [
    "# TODO discuss: which is better? are they similar?"
   ]
  },
  {
   "cell_type": "markdown",
   "metadata": {},
   "source": [
    "# Second order gradient descent"
   ]
  },
  {
   "cell_type": "code",
   "execution_count": null,
   "metadata": {},
   "outputs": [
    {
     "name": "stdout",
     "output_type": "stream",
     "text": [
      "step   0/100  loss     23.7395 | gradient_norm   12.4385 | intercept    -0.466 | slope    -2.940\n",
      "step   1/100  loss     12.8758 | gradient_norm    6.3231 | intercept     0.627 | slope    -0.103\n",
      "step   2/100  loss     12.8023 | gradient_norm    3.1766 | intercept     0.613 | slope    -0.129\n",
      "step   3/100  loss     12.7502 | gradient_norm    2.7249 | intercept     0.603 | slope    -0.151\n",
      "step   4/100  loss     12.7126 | gradient_norm    2.3576 | intercept     0.595 | slope    -0.170\n",
      "step   5/100  loss     12.6849 | gradient_norm    2.0560 | intercept     0.589 | slope    -0.186\n",
      "step   6/100  loss     12.6643 | gradient_norm    1.8062 | intercept     0.584 | slope    -0.199\n",
      "step   7/100  loss     12.6487 | gradient_norm    1.5977 | intercept     0.581 | slope    -0.210\n",
      "step   8/100  loss     12.6368 | gradient_norm    1.4225 | intercept     0.578 | slope    -0.220\n",
      "step   9/100  loss     12.6276 | gradient_norm    1.2743 | intercept     0.575 | slope    -0.228\n",
      "step  10/100  loss     12.6204 | gradient_norm    1.1480 | intercept     0.573 | slope    -0.236\n",
      "step  11/100  loss     12.6144 | gradient_norm    1.0400 | intercept     0.571 | slope    -0.242\n",
      "step  12/100  loss     12.6097 | gradient_norm    0.9421 | intercept     0.570 | slope    -0.248\n",
      "step  13/100  loss     12.6059 | gradient_norm    0.8578 | intercept     0.568 | slope    -0.253\n",
      "step  14/100  loss     12.6029 | gradient_norm    0.7848 | intercept     0.567 | slope    -0.258\n",
      "step  15/100  loss     12.6005 | gradient_norm    0.7214 | intercept     0.566 | slope    -0.261\n",
      "step  16/100  loss     12.5985 | gradient_norm    0.6660 | intercept     0.565 | slope    -0.265\n",
      "step  17/100  loss     12.5968 | gradient_norm    0.6174 | intercept     0.565 | slope    -0.268\n",
      "step  18/100  loss     12.5955 | gradient_norm    0.5746 | intercept     0.564 | slope    -0.271\n",
      "step  19/100  loss     12.5944 | gradient_norm    0.5367 | intercept     0.564 | slope    -0.273\n",
      "step  20/100  loss     12.5934 | gradient_norm    0.5031 | intercept     0.563 | slope    -0.275\n",
      "step  21/100  loss     12.5926 | gradient_norm    0.4732 | intercept     0.563 | slope    -0.277\n",
      "step  22/100  loss     12.5918 | gradient_norm    0.4451 | intercept     0.562 | slope    -0.279\n",
      "step  23/100  loss     12.5912 | gradient_norm    0.4199 | intercept     0.562 | slope    -0.281\n",
      "step  24/100  loss     12.5907 | gradient_norm    0.3974 | intercept     0.562 | slope    -0.282\n",
      "step  25/100  loss     12.5903 | gradient_norm    0.3771 | intercept     0.561 | slope    -0.284\n",
      "step  26/100  loss     12.5899 | gradient_norm    0.3588 | intercept     0.561 | slope    -0.285\n",
      "step  27/100  loss     12.5896 | gradient_norm    0.3423 | intercept     0.561 | slope    -0.286\n",
      "step  28/100  loss     12.5893 | gradient_norm    0.3273 | intercept     0.561 | slope    -0.287\n",
      "step  29/100  loss     12.5890 | gradient_norm    0.3137 | intercept     0.560 | slope    -0.288\n",
      "step  30/100  loss     12.5888 | gradient_norm    0.3013 | intercept     0.560 | slope    -0.289\n",
      "step  31/100  loss     12.5886 | gradient_norm    0.2900 | intercept     0.560 | slope    -0.290\n",
      "step  32/100  loss     12.5884 | gradient_norm    0.2791 | intercept     0.560 | slope    -0.290\n",
      "step  33/100  loss     12.5883 | gradient_norm    0.2692 | intercept     0.560 | slope    -0.291\n",
      "step  34/100  loss     12.5881 | gradient_norm    0.2600 | intercept     0.560 | slope    -0.292\n",
      "step  35/100  loss     12.5880 | gradient_norm    0.2517 | intercept     0.560 | slope    -0.292\n",
      "step  36/100  loss     12.5879 | gradient_norm    0.2440 | intercept     0.560 | slope    -0.293\n",
      "step  37/100  loss     12.5878 | gradient_norm    0.2369 | intercept     0.559 | slope    -0.293\n",
      "step  38/100  loss     12.5877 | gradient_norm    0.2304 | intercept     0.559 | slope    -0.294\n",
      "step  39/100  loss     12.5876 | gradient_norm    0.2243 | intercept     0.559 | slope    -0.294\n",
      "step  40/100  loss     12.5875 | gradient_norm    0.2187 | intercept     0.559 | slope    -0.295\n",
      "step  41/100  loss     12.5874 | gradient_norm    0.2136 | intercept     0.559 | slope    -0.295\n",
      "step  42/100  loss     12.5874 | gradient_norm    0.2085 | intercept     0.559 | slope    -0.295\n",
      "step  43/100  loss     12.5873 | gradient_norm    0.2038 | intercept     0.559 | slope    -0.296\n",
      "step  44/100  loss     12.5873 | gradient_norm    0.1995 | intercept     0.559 | slope    -0.296\n",
      "step  45/100  loss     12.5872 | gradient_norm    0.1954 | intercept     0.559 | slope    -0.296\n",
      "step  46/100  loss     12.5872 | gradient_norm    0.1917 | intercept     0.559 | slope    -0.296\n",
      "step  47/100  loss     12.5871 | gradient_norm    0.1881 | intercept     0.559 | slope    -0.297\n",
      "step  48/100  loss     12.5871 | gradient_norm    0.1849 | intercept     0.559 | slope    -0.297\n",
      "step  49/100  loss     12.5871 | gradient_norm    0.1818 | intercept     0.559 | slope    -0.297\n",
      "step  50/100  loss     12.5870 | gradient_norm    0.1790 | intercept     0.559 | slope    -0.297\n",
      "step  51/100  loss     12.5870 | gradient_norm    0.1763 | intercept     0.559 | slope    -0.298\n",
      "step  52/100  loss     12.5870 | gradient_norm    0.1737 | intercept     0.559 | slope    -0.298\n",
      "step  53/100  loss     12.5869 | gradient_norm    0.1712 | intercept     0.559 | slope    -0.298\n",
      "step  54/100  loss     12.5869 | gradient_norm    0.1689 | intercept     0.558 | slope    -0.298\n",
      "step  55/100  loss     12.5869 | gradient_norm    0.1667 | intercept     0.558 | slope    -0.298\n",
      "step  56/100  loss     12.5869 | gradient_norm    0.1647 | intercept     0.558 | slope    -0.298\n",
      "step  57/100  loss     12.5868 | gradient_norm    0.1628 | intercept     0.558 | slope    -0.299\n",
      "step  58/100  loss     12.5868 | gradient_norm    0.1610 | intercept     0.558 | slope    -0.299\n",
      "step  59/100  loss     12.5868 | gradient_norm    0.1593 | intercept     0.558 | slope    -0.299\n",
      "step  60/100  loss     12.5868 | gradient_norm    0.1578 | intercept     0.558 | slope    -0.299\n",
      "step  61/100  loss     12.5868 | gradient_norm    0.1563 | intercept     0.558 | slope    -0.299\n",
      "step  62/100  loss     12.5868 | gradient_norm    0.1548 | intercept     0.558 | slope    -0.299\n",
      "step  63/100  loss     12.5868 | gradient_norm    0.1534 | intercept     0.558 | slope    -0.299\n",
      "step  64/100  loss     12.5867 | gradient_norm    0.1521 | intercept     0.558 | slope    -0.299\n",
      "step  65/100  loss     12.5867 | gradient_norm    0.1509 | intercept     0.558 | slope    -0.299\n",
      "step  66/100  loss     12.5867 | gradient_norm    0.1498 | intercept     0.558 | slope    -0.299\n",
      "step  67/100  loss     12.5867 | gradient_norm    0.1487 | intercept     0.558 | slope    -0.300\n",
      "step  68/100  loss     12.5867 | gradient_norm    0.1476 | intercept     0.558 | slope    -0.300\n",
      "step  69/100  loss     12.5867 | gradient_norm    0.1467 | intercept     0.558 | slope    -0.300\n",
      "step  70/100  loss     12.5867 | gradient_norm    0.1458 | intercept     0.558 | slope    -0.300\n",
      "step  71/100  loss     12.5867 | gradient_norm    0.1449 | intercept     0.558 | slope    -0.300\n",
      "step  72/100  loss     12.5867 | gradient_norm    0.1440 | intercept     0.558 | slope    -0.300\n",
      "step  73/100  loss     12.5867 | gradient_norm    0.1432 | intercept     0.558 | slope    -0.300\n",
      "step  74/100  loss     12.5866 | gradient_norm    0.1425 | intercept     0.558 | slope    -0.300\n",
      "step  75/100  loss     12.5866 | gradient_norm    0.1417 | intercept     0.558 | slope    -0.300\n",
      "step  76/100  loss     12.5866 | gradient_norm    0.1410 | intercept     0.558 | slope    -0.300\n",
      "step  77/100  loss     12.5866 | gradient_norm    0.1404 | intercept     0.558 | slope    -0.300\n",
      "step  78/100  loss     12.5866 | gradient_norm    0.1398 | intercept     0.558 | slope    -0.300\n",
      "step  79/100  loss     12.5866 | gradient_norm    0.1392 | intercept     0.558 | slope    -0.300\n",
      "step  80/100  loss     12.5866 | gradient_norm    0.1387 | intercept     0.558 | slope    -0.300\n",
      "step  81/100  loss     12.5866 | gradient_norm    0.1381 | intercept     0.558 | slope    -0.300\n",
      "step  82/100  loss     12.5866 | gradient_norm    0.1376 | intercept     0.558 | slope    -0.300\n",
      "step  83/100  loss     12.5866 | gradient_norm    0.1371 | intercept     0.558 | slope    -0.300\n",
      "step  84/100  loss     12.5866 | gradient_norm    0.1367 | intercept     0.558 | slope    -0.300\n",
      "step  85/100  loss     12.5866 | gradient_norm    0.1362 | intercept     0.558 | slope    -0.300\n",
      "step  86/100  loss     12.5866 | gradient_norm    0.1358 | intercept     0.558 | slope    -0.300\n",
      "step  87/100  loss     12.5866 | gradient_norm    0.1354 | intercept     0.558 | slope    -0.300\n",
      "step  88/100  loss     12.5866 | gradient_norm    0.1351 | intercept     0.558 | slope    -0.301\n",
      "step  89/100  loss     12.5866 | gradient_norm    0.1347 | intercept     0.558 | slope    -0.301\n",
      "step  90/100  loss     12.5866 | gradient_norm    0.1344 | intercept     0.558 | slope    -0.301\n",
      "step  91/100  loss     12.5866 | gradient_norm    0.1341 | intercept     0.558 | slope    -0.301\n",
      "step  92/100  loss     12.5866 | gradient_norm    0.1337 | intercept     0.558 | slope    -0.301\n",
      "step  93/100  loss     12.5866 | gradient_norm    0.1334 | intercept     0.558 | slope    -0.301\n",
      "step  94/100  loss     12.5866 | gradient_norm    0.1332 | intercept     0.558 | slope    -0.301\n",
      "step  95/100  loss     12.5866 | gradient_norm    0.1329 | intercept     0.558 | slope    -0.301\n",
      "step  96/100  loss     12.5866 | gradient_norm    0.1326 | intercept     0.558 | slope    -0.301\n",
      "step  97/100  loss     12.5866 | gradient_norm    0.1324 | intercept     0.558 | slope    -0.301\n",
      "step  98/100  loss     12.5866 | gradient_norm    0.1322 | intercept     0.558 | slope    -0.301\n",
      "step  99/100  loss     12.5866 | gradient_norm    0.1320 | intercept     0.558 | slope    -0.301\n"
     ]
    }
   ],
   "source": [
    "max_n_steps = 100\n",
    "\n",
    "w_M = 1.5 * np.ones(M)\n",
    "\n",
    "step_size = 0.15 # Selected by starting at 1.0, and trying smaller values until first 5 steps made loss better\n",
    "\n",
    "GD2_history_of_w = [w_M]\n",
    "GD2_history_of_loss = [calc_loss(w_M, phi_NM, t_N, true_alpha)]\n",
    "\n",
    "for step in range(max_n_steps):\n",
    "    \n",
    "    g_M = calc_gradient_of_map_loss(w_M, phi_NM, t_N, true_alpha)\n",
    "    H_MM = calc_hessian_of_map_loss(w_M, phi_NM, t_N, true_alpha)\n",
    "    w_M = w_M - step_size * np.linalg.solve(H_MM, g_M) # compute H^1 times g\n",
    "    cur_loss = calc_loss(w_M, phi_NM, t_N, true_alpha)\n",
    "    \n",
    "    print(\"step %3d/%d  loss %11.4f | gradient_norm %9.4f | intercept %9.3f | slope %9.3f\" % (\n",
    "        step, max_n_steps, cur_loss, np.sum(np.abs(g_M)), w_M[0], w_M[1]))\n",
    "    GD2_history_of_loss.append(cur_loss)\n",
    "    GD2_history_of_w.append(w_M)\n",
    "    \n",
    "    if step % 10:\n",
    "        step_size = 0.95 * step_size # slowly decay step size"
   ]
  },
  {
   "cell_type": "code",
   "execution_count": null,
   "metadata": {},
   "outputs": [],
   "source": [
    "whistory_GD1_T2 = np.vstack(GD1_history_of_w)\n",
    "whistory_GD2_T2 = np.vstack(GD2_history_of_w)"
   ]
  },
  {
   "cell_type": "code",
   "execution_count": null,
   "metadata": {},
   "outputs": [
    {
     "data": {
      "image/png": "[encoded data removed]",
      "text/plain": [
       "<Figure size 800x800 with 2 Axes>"
      ]
     },
     "metadata": {},
     "output_type": "display_data"
    }
   ],
   "source": [
    "# Create a pretty contour plot over the grid of w[0], w[1], loss values\n",
    "\n",
    "levels = np.linspace(0, 40, 51) # 50 evenly spaced levels\n",
    "\n",
    "fig_handle, ax_handle = plt.subplots(nrows=1, ncols=1, figsize=(8,8));\n",
    "\n",
    "ax_handle.contour(w0_GH, w1_GH, loss_GH, levels=levels, linewidths=0, colors='k')\n",
    "cntrf_handle = ax_handle.contourf(w0_GH, w1_GH, loss_GH, levels=levels, cmap='RdBu_r', vmin=levels[0], vmax=levels[-1]);\n",
    "\n",
    "cbar = plt.colorbar(cntrf_handle, ax=ax_handle)\n",
    "cbar.set_label('MAP loss objective (lower is better)', fontsize=16);\n",
    "cbar.set_ticks(levels[::10]);\n",
    "\n",
    "# Show the first 10 iterates of GD\n",
    "ax_handle.plot(whistory_GD1_T2[:1,0], whistory_GD1_T2[:1,1], 'kx', markersize=15, label='Initial w value')\n",
    "ax_handle.plot(whistory_GD1_T2[:10,0], whistory_GD1_T2[:10,1], 'ks-', label='First 10 steps of 1st-order GD')\n",
    "ax_handle.plot(whistory_GD2_T2[:10,0], whistory_GD2_T2[:10,1], 'ms-', label='First 10 steps of 2st-order GD')\n",
    "\n",
    "plt.xlabel('intercept   $w_1$');\n",
    "plt.ylabel('slope   $w_2$');\n",
    "plt.gca().set_aspect('equal', 'box');\n",
    "plt.ylim([-3, 2]);\n",
    "plt.legend(loc='upper left');"
   ]
  },
  {
   "cell_type": "markdown",
   "metadata": {},
   "source": [
    "## Discussion: Compare the *first step* that 1st-order GD took to the *first step* that 2nd-order GD took.\n",
    "\n",
    "* Which is a better *direction*?\n",
    "* Which ended up closer to the optimal value because of well-chosen step-length?"
   ]
  },
  {
   "cell_type": "markdown",
   "metadata": {},
   "source": [
    "## Discussion: Compare the overall behavior of 1st and 2nd order GD.... do you see big qualitative differences?\n",
    "\n",
    "* Which one makes faster progress toward the minimum?\n",
    "* How are both sensitive to the step-size choice?"
   ]
  },
  {
   "cell_type": "code",
   "execution_count": null,
   "metadata": {},
   "outputs": [],
   "source": []
  }
 ],
 "metadata": {
  "kernelspec": {
   "display_name": "python3",
   "language": "python",
   "name": "python3"
  }
 },
 "nbformat": 4,
 "nbformat_minor": 4
}
