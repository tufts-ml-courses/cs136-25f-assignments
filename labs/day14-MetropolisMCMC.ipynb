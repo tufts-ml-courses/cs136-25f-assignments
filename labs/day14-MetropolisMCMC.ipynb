{
 "cells": [
  {
   "cell_type": "markdown",
   "metadata": {},
   "source": [
    "# CS 136 day14: Metropolis MCMC Demo\n",
    "\n",
    "## Outline\n",
    "\n",
    "* **Part 1: Implementing Metropolis Step-by-Step**\n",
    "\n",
    "\n",
    "## Takeaways\n",
    "\n",
    "* Metropolis is a way to sample from complex distributions\n",
    "* Only need ability to evaluate PDF/PMF (up to constant)\n",
    "* Only need ability to sample from your proposal $Q$ and a uniform over [0.0, 1.0]"
   ]
  },
  {
   "cell_type": "code",
   "execution_count": null,
   "metadata": {},
   "outputs": [],
   "source": [
    "import numpy as np\n",
    "import pandas as pd\n",
    "import scipy.stats"
   ]
  },
  {
   "cell_type": "code",
   "execution_count": null,
   "metadata": {},
   "outputs": [],
   "source": [
    "np.set_printoptions(precision=3, suppress=False)"
   ]
  },
  {
   "cell_type": "code",
   "execution_count": null,
   "metadata": {},
   "outputs": [],
   "source": [
    "pd.options.display.float_format = '{:,.3g}'.format  # show 3 digits of precision"
   ]
  },
  {
   "cell_type": "code",
   "execution_count": null,
   "metadata": {},
   "outputs": [],
   "source": [
    "import matplotlib.pyplot as plt\n",
    "import seaborn as sns\n",
    "sns.set_style(\"whitegrid\")\n",
    "sns.set_context(\"notebook\", font_scale=1.25)"
   ]
  },
  {
   "cell_type": "code",
   "execution_count": null,
   "metadata": {},
   "outputs": [],
   "source": [
    "prng = np.random.RandomState(101)"
   ]
  },
  {
   "cell_type": "markdown",
   "metadata": {},
   "source": [
    "# Part 1: Metropolis Demo for Discrete R.V.\n",
    "\n",
    "Consider a simple discrete random variable, $Z$, that takes integer values in $\\{1, 2, \\ldots 9, 10\\}$\n",
    "\n",
    "We know its PMF up to a constant\n",
    "\n",
    "\\begin{align}\n",
    "p( Z = 1 ) &= c \\cdot 1\n",
    "\\\\\n",
    "p( Z = 2 ) &= c \\cdot 1/2\n",
    "\\\\\n",
    "\\ldots\n",
    "\\\\\n",
    "p( Z = k ) &= c \\cdot 1/k\n",
    "\\\\ \\ldots\n",
    "\\\\ \n",
    "p( Z = 10) &= c \\cdot 1/10\n",
    "\\end{align}\n",
    "\n",
    "where $c > 0$ is the normalization constant"
   ]
  },
  {
   "cell_type": "markdown",
   "metadata": {},
   "source": [
    "## Step 1: Implement ability to sample from proposal distribution Q\n",
    "\n",
    "We'll use a proposal distribution $Q$ that is UNIFORM\n",
    "\n",
    "$$\n",
    "Q(z) = \\text{Unif}( \\{1, 2, \\ldots 10\\} )\n",
    "$$"
   ]
  },
  {
   "cell_type": "code",
   "execution_count": null,
   "metadata": {},
   "outputs": [],
   "source": [
    "def draw_proposal(zold, random_state=prng):\n",
    "    # Sample from uniform over {1, 2, ... 9, 10}\n",
    "    # randint syntax: low is inclusive, high exclusive    \n",
    "    zprop = random_state.randint(low=1, high=10 + 1)\n",
    "    return zprop"
   ]
  },
  {
   "cell_type": "markdown",
   "metadata": {},
   "source": [
    "**Exercise**: Prove that this is a symmetric proposal: for all $a,b$ $$Q(a|b) = Q(b|a)$$"
   ]
  },
  {
   "cell_type": "markdown",
   "metadata": {},
   "source": [
    "## Step 2: Implement $A$, the Metropolis acceptance ratio\n",
    "\n",
    "Implement $\\tilde{p}$, the computable part of the PMF\n",
    "\n",
    "$$\n",
    "\\tilde{p}( k ) = \\frac{1}{k}\n",
    "$$\n",
    "\n",
    "Let $z_t$ be the current state, and $z'$ be the proposed state\n",
    "\n",
    "$$\n",
    "A(z_t, z') = \\frac{ \\tilde{p}(z')}{ \\tilde{p}(z_t) }\n",
    "$$"
   ]
  },
  {
   "cell_type": "code",
   "execution_count": null,
   "metadata": {},
   "outputs": [],
   "source": [
    "def eval_tilde_pmf(k):\n",
    "    return 1.0 / float(k)"
   ]
  },
  {
   "cell_type": "code",
   "execution_count": null,
   "metadata": {},
   "outputs": [],
   "source": [
    "def eval_accept_ratio(zold, zprop):\n",
    "    return eval_tilde_pmf(zprop) / eval_tilde_pmf(zold)"
   ]
  },
  {
   "cell_type": "markdown",
   "metadata": {},
   "source": [
    "## Step 3: Implement entire transition distribution \n",
    "\n",
    "Sampling from transition distribution has two steps: propose then decide\n",
    "\n"
   ]
  },
  {
   "cell_type": "code",
   "execution_count": null,
   "metadata": {},
   "outputs": [],
   "source": [
    "def sample_from_transition_dist(zold, random_state=prng, verbose=False):\n",
    "    # Sample from uniform over {1, 2, ... 9, 10}\n",
    "    zprop = draw_proposal(zold, random_state)\n",
    "    \n",
    "    accept_ratio = eval_accept_ratio(zold, zprop)\n",
    "    \n",
    "    # Draw from a uniform over (0.0, 1.0)\n",
    "    u = random_state.rand()\n",
    "    if u < accept_ratio:\n",
    "        znew = zprop\n",
    "        result = 'accepted'\n",
    "    else:\n",
    "        znew = zold\n",
    "        result = 'rejected'\n",
    "        \n",
    "    if verbose:\n",
    "        print(\"new state %2d : %s move from %2d to %2d\" % (\n",
    "            znew, result, zold, zprop))\n",
    "    return znew"
   ]
  },
  {
   "cell_type": "markdown",
   "metadata": {},
   "source": [
    "## Demonstration: accept/reject probability of outgoing proposal from different states"
   ]
  },
  {
   "cell_type": "code",
   "execution_count": null,
   "metadata": {},
   "outputs": [
    {
     "name": "stdout",
     "output_type": "stream",
     "text": [
      "new state  2 : accepted move from 10 to  2\n",
      "new state  8 : accepted move from 10 to  8\n",
      "new state 10 : accepted move from 10 to 10\n",
      "new state  5 : accepted move from 10 to  5\n",
      "new state  6 : accepted move from 10 to  6\n",
      "new state  1 : accepted move from 10 to  1\n",
      "new state  9 : accepted move from 10 to  9\n",
      "new state  9 : accepted move from 10 to  9\n",
      "new state  4 : accepted move from 10 to  4\n",
      "new state  9 : accepted move from 10 to  9\n"
     ]
    }
   ],
   "source": [
    "# Inspect the transition dist out of z=10 # every move should be accepted, this is lowest prob state\n",
    "for _ in range(10):\n",
    "    sample_from_transition_dist(10, verbose=1)"
   ]
  },
  {
   "cell_type": "code",
   "execution_count": null,
   "metadata": {},
   "outputs": [
    {
     "name": "stdout",
     "output_type": "stream",
     "text": [
      "new state  8 : accepted move from  7 to  8\n",
      "new state  8 : accepted move from  7 to  8\n",
      "new state  7 : rejected move from  7 to  9\n",
      "new state  4 : accepted move from  7 to  4\n",
      "new state  8 : accepted move from  7 to  8\n",
      "new state  7 : rejected move from  7 to  9\n",
      "new state 10 : accepted move from  7 to 10\n",
      "new state  8 : accepted move from  7 to  8\n",
      "new state  1 : accepted move from  7 to  1\n",
      "new state  2 : accepted move from  7 to  2\n"
     ]
    }
   ],
   "source": [
    "# Inspect the transition dist out of z=7\n",
    "for _ in range(10):\n",
    "    sample_from_transition_dist(7, verbose=1)"
   ]
  },
  {
   "cell_type": "code",
   "execution_count": null,
   "metadata": {},
   "outputs": [
    {
     "name": "stdout",
     "output_type": "stream",
     "text": [
      "new state  4 : accepted move from  4 to  4\n",
      "new state  4 : rejected move from  4 to  9\n",
      "new state  4 : accepted move from  4 to  4\n",
      "new state  4 : accepted move from  4 to  4\n",
      "new state  5 : accepted move from  4 to  5\n",
      "new state  7 : accepted move from  4 to  7\n",
      "new state  4 : accepted move from  4 to  4\n",
      "new state  4 : rejected move from  4 to  7\n",
      "new state  4 : rejected move from  4 to 10\n",
      "new state  3 : accepted move from  4 to  3\n"
     ]
    }
   ],
   "source": [
    "# Inspect the transition dist out of z=4 (we expect some moves would be rejected)\n",
    "for _ in range(10):\n",
    "    sample_from_transition_dist(4, verbose=1)"
   ]
  },
  {
   "cell_type": "code",
   "execution_count": null,
   "metadata": {},
   "outputs": [
    {
     "name": "stdout",
     "output_type": "stream",
     "text": [
      "new state  2 : accepted move from  1 to  2\n",
      "new state  1 : rejected move from  1 to  4\n",
      "new state  1 : rejected move from  1 to  6\n",
      "new state  1 : rejected move from  1 to  6\n",
      "new state  1 : rejected move from  1 to  7\n",
      "new state  1 : rejected move from  1 to  6\n",
      "new state  1 : rejected move from  1 to  6\n",
      "new state  1 : rejected move from  1 to  8\n",
      "new state  1 : rejected move from  1 to  3\n",
      "new state  1 : rejected move from  1 to 10\n"
     ]
    }
   ],
   "source": [
    "# Inspect the transition dist out of z=1   (we expect almost all moves would be rejected)\n",
    "for _ in range(10):\n",
    "    sample_from_transition_dist(1, verbose=1)"
   ]
  },
  {
   "cell_type": "markdown",
   "metadata": {},
   "source": [
    "# Part 4: Draw from target distribution"
   ]
  },
  {
   "cell_type": "code",
   "execution_count": null,
   "metadata": {},
   "outputs": [],
   "source": [
    "S = 500000 # num samples"
   ]
  },
  {
   "cell_type": "code",
   "execution_count": null,
   "metadata": {},
   "outputs": [],
   "source": [
    "z = 5 # random initialization\n",
    "z_list = []\n",
    "for _ in range(S):\n",
    "    z = sample_from_transition_dist(z)\n",
    "    z_list.append(z)"
   ]
  },
  {
   "cell_type": "code",
   "execution_count": null,
   "metadata": {},
   "outputs": [],
   "source": [
    "z_S = np.asarray(z_list)"
   ]
  },
  {
   "cell_type": "code",
   "execution_count": null,
   "metadata": {},
   "outputs": [],
   "source": [
    "bin_edges_C = np.asarray([0.5, 1.5, 2.5, 3.5, 4.5, 5.5, 6.5, 7.5, 8.5, 9.5, 10.5])\n",
    "bin_ctrs_B = bin_edges_C[:-1] + 0.5\n",
    "\n",
    "counts_B, _ = np.histogram(z_S, bin_edges_C)\n",
    "\n",
    "pmf_B = counts_B/np.sum(counts_B)"
   ]
  },
  {
   "cell_type": "code",
   "execution_count": null,
   "metadata": {},
   "outputs": [],
   "source": [
    "assert counts_B[-1] == np.sum(z_S==10)"
   ]
  },
  {
   "cell_type": "code",
   "execution_count": null,
   "metadata": {},
   "outputs": [
    {
     "data": {
      "image/png": "[encoded data removed]",
      "text/plain": [
       "<Figure size 640x480 with 1 Axes>"
      ]
     },
     "metadata": {},
     "output_type": "display_data"
    }
   ],
   "source": [
    "plt.bar(bin_ctrs_B, pmf_B)\n",
    "plt.xlabel(\"z\")\n",
    "plt.ylabel(\"empirical PMF\");"
   ]
  },
  {
   "cell_type": "code",
   "execution_count": null,
   "metadata": {},
   "outputs": [
    {
     "name": "stdout",
     "output_type": "stream",
     "text": [
      "k =  1 | actual Pr(Z =  1) = 0.3389 | ideal = c / k = 0.3389\n",
      "k =  2 | actual Pr(Z =  2) = 0.1722 | ideal = c / k = 0.1694\n",
      "k =  3 | actual Pr(Z =  3) = 0.1144 | ideal = c / k = 0.1130\n",
      "k =  4 | actual Pr(Z =  4) = 0.0857 | ideal = c / k = 0.0847\n",
      "k =  5 | actual Pr(Z =  5) = 0.0685 | ideal = c / k = 0.0678\n",
      "k =  6 | actual Pr(Z =  6) = 0.0565 | ideal = c / k = 0.0565\n",
      "k =  7 | actual Pr(Z =  7) = 0.0491 | ideal = c / k = 0.0484\n",
      "k =  8 | actual Pr(Z =  8) = 0.0426 | ideal = c / k = 0.0424\n",
      "k =  9 | actual Pr(Z =  9) = 0.0382 | ideal = c / k = 0.0377\n",
      "k = 10 | actual Pr(Z = 10) = 0.0339 | ideal = c / k = 0.0339\n"
     ]
    }
   ],
   "source": [
    "# Verify that the recovered PMF matches our desired definition\n",
    "\n",
    "c = pmf_B[0]\n",
    "\n",
    "for k in range(1, 10+1):\n",
    "    print(\"k = %2d | actual Pr(Z = %2d) = %.4f | ideal = c / k = %.4f\" % (\n",
    "        k, k, pmf_B[k-1], c / k))"
   ]
  },
  {
   "cell_type": "code",
   "execution_count": null,
   "metadata": {},
   "outputs": [],
   "source": []
  }
 ],
 "metadata": {
  "kernelspec": {
   "display_name": "python3",
   "language": "python",
   "name": "python3"
  }
 },
 "nbformat": 4,
 "nbformat_minor": 4
}
