{
 "cells": [
  {
   "cell_type": "markdown",
   "metadata": {},
   "source": [
    "# day 15 - Probabilistic Programming\n",
    "\n",
    "# Demo 1: Hello world for linear regression in pymc\n",
    "\n",
    "This is meant to be a first notebook for exploring how to use pymc to do:\n",
    "\n",
    "* MAP estimation\n",
    "* MCMC sampling using the No-U-Turn (NUTS) extension of Hamlitonian Monte Carlo\n",
    "\n",
    "Meant to allow side-by-side comparison with Stan in the parallel second demo notebook\n",
    "\n",
    "Inspired by:\n",
    "\n",
    "* Bob Carpenter's blog post:\n",
    "\n",
    "https://statmodeling.stat.columbia.edu/2017/05/31/compare-stan-pymc-edward-hello-world/\n",
    "\n",
    "* The \"hello world\" example in the pymc journal article:\n",
    "\n",
    "Salvatier, Wiecki, and Fonnesbeck. \"Probabilistic programming in Python using pymc\". \n",
    "https://peerj.com/articles/cs-55.pdf"
   ]
  },
  {
   "cell_type": "code",
   "execution_count": null,
   "metadata": {},
   "outputs": [],
   "source": [
    "import numpy as np\n",
    "import scipy.stats\n",
    "import pandas as pd"
   ]
  },
  {
   "cell_type": "code",
   "execution_count": null,
   "metadata": {},
   "outputs": [],
   "source": [
    "import matplotlib.pyplot as plt\n",
    "import seaborn as sns\n",
    "\n",
    "sns.set_style('whitegrid');\n",
    "sns.set_context(\"notebook\", font_scale=1.1, rc={\"lines.linewidth\": 2.0})"
   ]
  },
  {
   "cell_type": "markdown",
   "metadata": {},
   "source": [
    "# Import pymc\n",
    "\n",
    "\n",
    "If you need to install it first, using the class-specific `spr_25s_env` environment](https://github.com/tufts-ml-courses/cs136-25f-assignments/blob/main/spr_2025f_env.yml)\n",
    "\n",
    "```console\n",
    "$ conda activate spr_25f_env\n",
    "$ conda install -c conda-forge pymc\n",
    "```"
   ]
  },
  {
   "cell_type": "code",
   "execution_count": null,
   "metadata": {},
   "outputs": [],
   "source": [
    "import pymc"
   ]
  },
  {
   "cell_type": "markdown",
   "metadata": {},
   "source": [
    "# Setup : Prep code for plotting"
   ]
  },
  {
   "cell_type": "code",
   "execution_count": null,
   "metadata": {},
   "outputs": [],
   "source": [
    "def plot_traces_with_truth(trace_obj, true_params, map_params=None):\n",
    "    fig, ax_grid = plt.subplots(nrows=1, ncols=2, figsize=(6, 3), sharex=True, sharey=True);\n",
    "    for ax, var_name, dim in zip(\n",
    "            ax_grid.flatten(), ['w', 'w'], [0, 1]):\n",
    "        var_samples_CS = trace_obj['posterior'][var_name].values\n",
    "        true_val = true_params[var_name]\n",
    "\n",
    "        if dim is not None:\n",
    "            var_samples_S = var_samples_CS[0, :, dim].flatten()\n",
    "            true_val = true_val[dim]\n",
    "            if map_params is not None:\n",
    "                map_val = map_params[var_name][dim]          \n",
    "            var_name_dim = var_name + \"[%d]\" % dim\n",
    "        else:\n",
    "            var_name_dim = var_name\n",
    "            var_samples_S = var_samples_CS.flatten()\n",
    "            if map_params is not None:\n",
    "                map_val = map_params[var_name]\n",
    "\n",
    "        S = var_samples_S.size\n",
    "        ax.plot(var_samples_S, 'b.', markersize=4, alpha=0.3, label='samples')\n",
    "        ax.plot(true_val * np.ones(S), 'r-', label='true val')\n",
    "        if map_params is not None:\n",
    "            ax.plot(map_val * np.ones(S), 'b-', label='MAP val')\n",
    "        ax.set_ylabel(var_name_dim)\n",
    "        ax.set_xlabel('sampling step');\n",
    "\n",
    "    ax.legend(loc='upper right')"
   ]
  },
  {
   "cell_type": "markdown",
   "metadata": {},
   "source": [
    "# Part 1: Simple Linear Regression where ideal analytical form possible + RW MCMC"
   ]
  },
  {
   "cell_type": "markdown",
   "metadata": {},
   "source": [
    "We wish to consider a simple linear regression model.\n",
    "\n",
    "Each individual example (indexed by $n$) has an output real value $y_n$. We model each observation as (conditionally) iid using a regression given one input feature $x_n$\n",
    "\n",
    "### Likelihood\n",
    "\n",
    "\\begin{align}\n",
    " p(y_{1:N} | w) &= \\prod_{n=1}^N \\text{NormPDF}(y_n | w_1 + w_2 x_{n}, \\beta^{-1})\n",
    "\\end{align}\n",
    "\n",
    "The random variables of interest are the intercept $w_1$ and slope $w_2$.\n",
    "\n",
    "The precision $\\beta$ is a fixed hyperparameter.\n",
    "\n",
    "### Priors on regression coefficients:\n",
    "\\begin{align}\n",
    " p(w_1) &= \\text{NormalPDF}(0, var=9)\n",
    "\\\\\n",
    " p(w_2) &= \\text{NormalPDF}(0, var=9)\n",
    "\\end{align}\n",
    "\n",
    "The prior precision $\\alpha = \\frac{1}{9}$ is a fixed hyperparameter"
   ]
  },
  {
   "cell_type": "markdown",
   "metadata": {},
   "source": [
    "## Draw data from the model"
   ]
  },
  {
   "cell_type": "code",
   "execution_count": null,
   "metadata": {},
   "outputs": [],
   "source": [
    "# Initialize random number generator\n",
    "np.random.seed(123)\n",
    "\n",
    "# True regression coefficients\n",
    "w_2 = np.asarray([1.337, -2.0])\n",
    "\n",
    "# True hyperparameters\n",
    "alpha = 1/9. # variance = 9 so stddev = 3\n",
    "beta = 0.5\n",
    "\n",
    "# Size of dataset\n",
    "N = 100\n",
    "\n",
    "# Data Features (input variable)\n",
    "x1_N = 2 * np.random.randn(N)\n",
    "x_N1 = np.hstack([x1_N[:,np.newaxis]])\n",
    "\n",
    "# Simulate outcome variable\n",
    "y_N = w_2[0] + w_2[1]*x1_N + np.sqrt(1/beta) * np.random.randn(N)\n",
    "\n",
    "true_params = dict(\n",
    "    w=w_2,\n",
    "    alpha=alpha,\n",
    "    beta=beta)"
   ]
  },
  {
   "cell_type": "markdown",
   "metadata": {},
   "source": [
    "## Visualize data"
   ]
  },
  {
   "cell_type": "code",
   "execution_count": null,
   "metadata": {},
   "outputs": [
    {
     "data": {
      "image/png": "[encoded data removed]",
      "text/plain": [
       "<Figure size 600x300 with 2 Axes>"
      ]
     },
     "metadata": {},
     "output_type": "display_data"
    }
   ],
   "source": [
    "_, axgrid = plt.subplots(nrows=1, ncols=2, figsize=(6,3), sharex=True, sharey=True)\n",
    "for plot_id, Ncur in enumerate([3, N]):\n",
    "    ax = axgrid[plot_id]\n",
    "    ax.plot(x1_N[:Ncur], y_N[:Ncur], 'k.');\n",
    "    ax.set_xlabel('x1');\n",
    "    ax.set_ylabel('y');\n",
    "    ax.set_title(\"N = %d\" % Ncur)\n",
    "plt.tight_layout(); plt.subplots_adjust();"
   ]
  },
  {
   "cell_type": "markdown",
   "metadata": {},
   "source": [
    "## Analytical posterior"
   ]
  },
  {
   "cell_type": "code",
   "execution_count": null,
   "metadata": {},
   "outputs": [],
   "source": [
    "def calc_post_params(N):\n",
    "    global x_N1, y_N, alpha, beta\n",
    "    M = 2\n",
    "    phi_NM = np.hstack([np.ones((N,1)), x_N1[:N]])\n",
    "    wcov_22 = np.linalg.inv(alpha * np.eye(M) + beta * np.dot(phi_NM.T, phi_NM))\n",
    "    wmean_2 = beta * np.dot(wcov_22, np.dot(phi_NM.T, y_N[:N]))\n",
    "    return dict(wmean_2=wmean_2, wcov_22=wcov_22)"
   ]
  },
  {
   "cell_type": "code",
   "execution_count": null,
   "metadata": {},
   "outputs": [],
   "source": [
    "post_params_N0 = calc_post_params(0)\n",
    "post_params_N3 = calc_post_params(3)"
   ]
  },
  {
   "cell_type": "code",
   "execution_count": null,
   "metadata": {},
   "outputs": [
    {
     "data": {
      "text/plain": [
       "{'wmean_2': array([0., 0.]),\n",
       " 'wcov_22': array([[9., 0.],\n",
       "        [0., 9.]])}"
      ]
     },
     "execution_count": null,
     "metadata": {},
     "output_type": "execute_result"
    }
   ],
   "source": [
    "post_params_N0"
   ]
  },
  {
   "cell_type": "code",
   "execution_count": null,
   "metadata": {},
   "outputs": [
    {
     "data": {
      "text/plain": [
       "{'wmean_2': array([ 1.05520278, -2.69585593]),\n",
       " 'wcov_22': array([[ 0.62386821, -0.02630294],\n",
       "        [-0.02630294,  0.21766003]])}"
      ]
     },
     "execution_count": null,
     "metadata": {},
     "output_type": "execute_result"
    }
   ],
   "source": [
    "post_params_N3"
   ]
  },
  {
   "cell_type": "markdown",
   "metadata": {},
   "source": [
    "## Model as PyMC object"
   ]
  },
  {
   "cell_type": "code",
   "execution_count": null,
   "metadata": {},
   "outputs": [],
   "source": [
    "def make_model(N=0):\n",
    "    my_model = pymc.Model()\n",
    "\n",
    "    with my_model:\n",
    "        # Priors for unknown model parameters\n",
    "        wvec = pymc.Normal('w', mu=0, sigma=np.sqrt(1/alpha), size=2)\n",
    "    \n",
    "        # Likelihood (sampling distribution) of observations\n",
    "        Y_obs = pymc.Normal('Y_obs',\n",
    "            mu=(wvec[0] + wvec[1] * x1_N[:N]),\n",
    "            sigma=np.sqrt(1/beta),\n",
    "            observed=y_N[:N])\n",
    "    return my_model"
   ]
  },
  {
   "cell_type": "code",
   "execution_count": null,
   "metadata": {},
   "outputs": [],
   "source": [
    "my_model_N3 = make_model(N=3)"
   ]
  },
  {
   "cell_type": "code",
   "execution_count": null,
   "metadata": {},
   "outputs": [
    {
     "data": {
      "text/plain": [
       "[w ~ Normal(0, 3), Y_obs ~ Normal(f(w), 1.41)]"
      ]
     },
     "execution_count": null,
     "metadata": {},
     "output_type": "execute_result"
    }
   ],
   "source": [
    "my_model_N3.basic_RVs"
   ]
  },
  {
   "cell_type": "markdown",
   "metadata": {},
   "source": [
    "## Run MAP estimation on small dataset"
   ]
  },
  {
   "cell_type": "code",
   "execution_count": null,
   "metadata": {},
   "outputs": [],
   "source": [
    "def calc_MAP(N=None, my_model=None):\n",
    "    if my_model is None:\n",
    "        my_model = make_model(N)\n",
    "    return pymc.find_MAP(model=my_model, maxeval=1000)"
   ]
  },
  {
   "cell_type": "code",
   "execution_count": null,
   "metadata": {},
   "outputs": [
    {
     "data": {
      "application/vnd.jupyter.widget-view+json": {
       "model_id": "95f05393323e4a7f8fbf55af8c6d3c4c",
       "version_major": 2,
       "version_minor": 0
      },
      "text/plain": [
       "Output()"
      ]
     },
     "metadata": {},
     "output_type": "display_data"
    },
    {
     "data": {
      "text/html": [
       "<pre style=\"white-space:pre;overflow-x:auto;line-height:normal;font-family:Menlo,'DejaVu Sans Mono',consolas,'Courier New',monospace\"></pre>\n"
      ],
      "text/plain": []
     },
     "metadata": {},
     "output_type": "display_data"
    }
   ],
   "source": [
    "map_N3 = calc_MAP(N=3)"
   ]
  },
  {
   "cell_type": "code",
   "execution_count": null,
   "metadata": {},
   "outputs": [
    {
     "name": "stdout",
     "output_type": "stream",
     "text": [
      "w [ 1.05520276 -2.69585585]\n"
     ]
    }
   ],
   "source": [
    "for key, arr in map_N3.items():\n",
    "    print(key, arr)"
   ]
  },
  {
   "cell_type": "code",
   "execution_count": null,
   "metadata": {},
   "outputs": [
    {
     "data": {
      "text/plain": [
       "{'w': array([ 1.337, -2.   ]), 'alpha': 0.1111111111111111, 'beta': 0.5}"
      ]
     },
     "execution_count": null,
     "metadata": {},
     "output_type": "execute_result"
    }
   ],
   "source": [
    "true_params"
   ]
  },
  {
   "cell_type": "code",
   "execution_count": null,
   "metadata": {},
   "outputs": [
    {
     "data": {
      "text/plain": [
       "array([ 1.05520278, -2.69585593])"
      ]
     },
     "execution_count": null,
     "metadata": {},
     "output_type": "execute_result"
    }
   ],
   "source": [
    "post_params_N3['wmean_2']"
   ]
  },
  {
   "cell_type": "markdown",
   "metadata": {},
   "source": [
    "## Run Metropolis Random Walk (RW) sampler"
   ]
  },
  {
   "cell_type": "code",
   "execution_count": null,
   "metadata": {},
   "outputs": [],
   "source": [
    "def run_RW_sampler(rw_sigma=1.0, N=0, n_samples=10000, n_bins=31):\n",
    "\n",
    "    my_model = make_model(N)\n",
    "    post_params = calc_post_params(N)\n",
    "    my_map = calc_MAP(my_model=my_model)\n",
    "    \n",
    "    with my_model:\n",
    "        # instantiate sampler\n",
    "        mcmc_step = pymc.Metropolis(S=rw_sigma**2 * np.ones(1), tune=False)\n",
    "    \n",
    "        # draw 1000 posterior samples\n",
    "        trace = pymc.sample(\n",
    "            draws=n_samples,\n",
    "            step=mcmc_step,\n",
    "            chains=1,\n",
    "            tune=0,\n",
    "            discard_tuned_samples=False)\n",
    "        \n",
    "    plot_traces_with_truth(trace, map_params=my_map, true_params=true_params)\n",
    "    plt.xlim([0, 3000]);\n",
    "    \n",
    "    # Plot histograms\n",
    "    _, axgrid = plt.subplots(nrows=1, ncols=2, figsize=(6,3), sharex=False, sharey=False)\n",
    "    for dim in [0,1]:\n",
    "        axgrid[dim].hist(\n",
    "            trace['posterior']['w'].values[0,:,dim], n_bins, density=True)\n",
    "\n",
    "        true_post_dist = scipy.stats.norm(\n",
    "            post_params['wmean_2'][dim],\n",
    "            np.sqrt(post_params['wcov_22'][dim,dim]))\n",
    "        std = true_post_dist.std()\n",
    "        wgrid_G = np.linspace(-5*std, 5*std, 301) + true_post_dist.mean()\n",
    "        axgrid[dim].plot(wgrid_G,\n",
    "                         [true_post_dist.pdf(w) for w in wgrid_G],\n",
    "                         'r-', label='true posterior');        \n",
    "        axgrid[dim].set_xlabel(\"w[%d]\" % dim);\n",
    "        axgrid[dim].set_ylabel('pdf');\n",
    "        axgrid[dim].set_xlim([-4, 4]);\n",
    "        if dim == 1:\n",
    "            axgrid[dim].legend(loc='upper right');\n",
    "    plt.subplots_adjust(); plt.tight_layout();"
   ]
  },
  {
   "cell_type": "code",
   "execution_count": null,
   "metadata": {},
   "outputs": [
    {
     "data": {
      "application/vnd.jupyter.widget-view+json": {
       "model_id": "49117261b87f4af8956e0501058a9410",
       "version_major": 2,
       "version_minor": 0
      },
      "text/plain": [
       "Output()"
      ]
     },
     "metadata": {},
     "output_type": "display_data"
    },
    {
     "data": {
      "text/html": [
       "<pre style=\"white-space:pre;overflow-x:auto;line-height:normal;font-family:Menlo,'DejaVu Sans Mono',consolas,'Courier New',monospace\"></pre>\n"
      ],
      "text/plain": []
     },
     "metadata": {},
     "output_type": "display_data"
    },
    {
     "name": "stderr",
     "output_type": "stream",
     "text": [
      "Sequential sampling (1 chains in 1 job)\n"
     ]
    },
    {
     "name": "stderr",
     "output_type": "stream",
     "text": [
      "Metropolis: [w]\n"
     ]
    },
    {
     "data": {
      "application/vnd.jupyter.widget-view+json": {
       "model_id": "b98914b3162c46bd9295703cd10608ff",
       "version_major": 2,
       "version_minor": 0
      },
      "text/plain": [
       "Output()"
      ]
     },
     "metadata": {},
     "output_type": "display_data"
    },
    {
     "data": {
      "text/html": [
       "<pre style=\"white-space:pre;overflow-x:auto;line-height:normal;font-family:Menlo,'DejaVu Sans Mono',consolas,'Courier New',monospace\"></pre>\n"
      ],
      "text/plain": []
     },
     "metadata": {},
     "output_type": "display_data"
    },
    {
     "name": "stderr",
     "output_type": "stream",
     "text": [
      "Sampling 1 chain for 0 tune and 10_000 draw iterations (0 + 10_000 draws total) took 2 seconds.\n"
     ]
    },
    {
     "name": "stderr",
     "output_type": "stream",
     "text": [
      "Only one chain was sampled, this makes it impossible to run some convergence checks\n"
     ]
    },
    {
     "data": {
      "image/png": "[encoded data removed]",
      "text/plain": [
       "<Figure size 600x300 with 2 Axes>"
      ]
     },
     "metadata": {},
     "output_type": "display_data"
    },
    {
     "data": {
      "image/png": "[encoded data removed]",
      "text/plain": [
       "<Figure size 600x300 with 2 Axes>"
      ]
     },
     "metadata": {},
     "output_type": "display_data"
    }
   ],
   "source": [
    "run_RW_sampler(rw_sigma=2.0, N=3, n_samples=10000, n_bins=21)"
   ]
  },
  {
   "cell_type": "markdown",
   "metadata": {},
   "source": [
    "## Fit posterior via MCMC when N=100"
   ]
  },
  {
   "cell_type": "code",
   "execution_count": null,
   "metadata": {},
   "outputs": [
    {
     "data": {
      "application/vnd.jupyter.widget-view+json": {
       "model_id": "d4b222f5656844c6a0244b6d5bb705ba",
       "version_major": 2,
       "version_minor": 0
      },
      "text/plain": [
       "Output()"
      ]
     },
     "metadata": {},
     "output_type": "display_data"
    },
    {
     "data": {
      "text/html": [
       "<pre style=\"white-space:pre;overflow-x:auto;line-height:normal;font-family:Menlo,'DejaVu Sans Mono',consolas,'Courier New',monospace\"></pre>\n"
      ],
      "text/plain": []
     },
     "metadata": {},
     "output_type": "display_data"
    },
    {
     "name": "stderr",
     "output_type": "stream",
     "text": [
      "Sequential sampling (1 chains in 1 job)\n"
     ]
    },
    {
     "name": "stderr",
     "output_type": "stream",
     "text": [
      "Metropolis: [w]\n"
     ]
    },
    {
     "data": {
      "application/vnd.jupyter.widget-view+json": {
       "model_id": "0203c0f824f64e0b98d4b1fb806d4696",
       "version_major": 2,
       "version_minor": 0
      },
      "text/plain": [
       "Output()"
      ]
     },
     "metadata": {},
     "output_type": "display_data"
    },
    {
     "data": {
      "text/html": [
       "<pre style=\"white-space:pre;overflow-x:auto;line-height:normal;font-family:Menlo,'DejaVu Sans Mono',consolas,'Courier New',monospace\"></pre>\n"
      ],
      "text/plain": []
     },
     "metadata": {},
     "output_type": "display_data"
    },
    {
     "name": "stderr",
     "output_type": "stream",
     "text": [
      "Sampling 1 chain for 0 tune and 10_000 draw iterations (0 + 10_000 draws total) took 1 seconds.\n"
     ]
    },
    {
     "name": "stderr",
     "output_type": "stream",
     "text": [
      "Only one chain was sampled, this makes it impossible to run some convergence checks\n"
     ]
    },
    {
     "data": {
      "image/png": "[encoded data removed]",
      "text/plain": [
       "<Figure size 600x300 with 2 Axes>"
      ]
     },
     "metadata": {},
     "output_type": "display_data"
    },
    {
     "data": {
      "image/png": "[encoded data removed]",
      "text/plain": [
       "<Figure size 600x300 with 2 Axes>"
      ]
     },
     "metadata": {},
     "output_type": "display_data"
    }
   ],
   "source": [
    "run_RW_sampler(rw_sigma=0.15, N=100, n_samples=10000, n_bins=21)"
   ]
  },
  {
   "cell_type": "markdown",
   "metadata": {},
   "source": []
  },
  {
   "cell_type": "code",
   "execution_count": null,
   "metadata": {},
   "outputs": [],
   "source": []
  },
  {
   "cell_type": "markdown",
   "metadata": {},
   "source": [
    "# Part 2: Try more complex model (include variance parameters) with NUTS MCMC"
   ]
  },
  {
   "cell_type": "markdown",
   "metadata": {},
   "source": [
    "We wish to consider a simple linear regression model.\n",
    "\n",
    "Each individual example (indexed by $n$) has an output real value $y_n$. We model each observation as (conditionally) iid using a regression given two input features/covariates $x_{n1}$ and $x_{n2}$.\n",
    "\n",
    "### Likelihood\n",
    "\n",
    "\\begin{align}\n",
    " p(y_{1:N} | x_{1:N}, \\alpha, \\beta, \\sigma) &= \\prod_{n=1}^N \\text{NormPDF}(y_n | \\alpha + \\beta_1 x_{n1} + \\beta_2 x_{n2}, \\sigma^2)\n",
    "\\end{align}\n",
    "\n",
    "We can identify the 3 scalar parameters that define our mean prediction: intercept $\\alpha$, and weights $\\beta_1$ and $\\beta_2.\n",
    "\n",
    "There is further the variance parameter $\\sigma^2$.\n",
    "\n",
    "### Priors on the variance of the likelihood:\n",
    "\n",
    "\\begin{align}\n",
    " p(\\sigma) &= \\text{HalfNormalPDF}(\\sigma | 0, 1) = \n",
    " \\begin{cases}\n",
    "     2 \\cdot \\text{NormalPDF}(\\sigma | 0, 1) & \\sigma > 0\n",
    "\\\\\n",
    "     0.0  & \\sigma \\leq 0\n",
    " \\end{cases}\n",
    "\\end{align}\n",
    "\n",
    "It is sometimes tough to find the right distribution to express our beliefs about the variance, which needs to be positive ($\\sigma^2 > 0$). Here, we use the ``half-normal'' distribution, which is basically the half of the standard normal PDF that covers positive values, renormalized to be a valid pdf.\n",
    "\n",
    "### Priors on regression coefficients:\n",
    "\\begin{align}\n",
    " p(\\alpha) &= \\text{NormalPDF}(0, 10)\n",
    "\\\\\n",
    " p(\\beta_1) &= \\text{NormalPDF}(0, 10)\n",
    "\\\\\n",
    " p(\\beta_2) &= \\text{NormalPDF}(0, 10)\n",
    "\\\\    \n",
    "\\end{align}"
   ]
  },
  {
   "cell_type": "markdown",
   "metadata": {},
   "source": [
    "## Simulate data from the model\n"
   ]
  },
  {
   "cell_type": "code",
   "execution_count": null,
   "metadata": {},
   "outputs": [],
   "source": [
    "# Initialize random number generator\n",
    "np.random.seed(123)\n",
    "\n",
    "# True regression coefficients\n",
    "alpha = 1.0\n",
    "beta_2 = np.asarray([1.0, 1.337])\n",
    "\n",
    "# True regression std dev\n",
    "sigma = 0.3\n",
    "\n",
    "# Size of dataset\n",
    "N = 100\n",
    "\n",
    "# Data Features (input variable)\n",
    "x1_N = np.random.randn(N)\n",
    "x2_N = np.random.randn(N)\n",
    "x_N2 = np.hstack([x1_N[:,np.newaxis], x2_N[:,np.newaxis]])\n",
    "\n",
    "# Simulate outcome variable\n",
    "y_N = alpha + beta_2[0]*x1_N + beta_2[1]*x2_N + np.random.randn(N) * sigma\n",
    "\n",
    "true_params = {\n",
    "    'alpha':alpha,\n",
    "    'beta':beta_2.tolist(),\n",
    "    'sigma':sigma,\n",
    "}"
   ]
  },
  {
   "cell_type": "markdown",
   "metadata": {},
   "source": [
    "## Plot of observed data"
   ]
  },
  {
   "cell_type": "code",
   "execution_count": null,
   "metadata": {},
   "outputs": [
    {
     "data": {
      "image/png": "[encoded data removed]",
      "text/plain": [
       "<Figure size 800x300 with 2 Axes>"
      ]
     },
     "metadata": {},
     "output_type": "display_data"
    }
   ],
   "source": [
    "_, axgrid = plt.subplots(nrows=1, ncols=2, figsize=(8,3), sharex=True, sharey=True);\n",
    "\n",
    "axgrid[0].plot(x1_N, y_N, 'k.'); axgrid[0].set_xlabel('x1'); axgrid[0].set_ylabel('y');\n",
    "axgrid[1].plot(x2_N, y_N, 'b.'); axgrid[1].set_xlabel('x2'); axgrid[1].set_ylabel('y');"
   ]
  },
  {
   "cell_type": "markdown",
   "metadata": {},
   "source": [
    "## Model specified as a pymc object"
   ]
  },
  {
   "cell_type": "markdown",
   "metadata": {},
   "source": [
    "For the N=10 smaller dataset"
   ]
  },
  {
   "cell_type": "code",
   "execution_count": null,
   "metadata": {},
   "outputs": [],
   "source": [
    "my_model_N10 = pymc.Model()\n",
    "\n",
    "with my_model_N10:\n",
    "    # Priors for unknown model parameters\n",
    "    alpha = pymc.Normal('alpha', mu=0, sigma=10)\n",
    "    beta = pymc.Normal('beta', mu=0, sigma=10, shape=2)\n",
    "    sigma = pymc.HalfNormal('sigma', sigma=1)\n",
    "    \n",
    "    # Likelihood (sampling distribution) of observations\n",
    "    Y_obs = pymc.Normal('Y_obs',\n",
    "        mu=(alpha + beta[0] * x1_N[:10] + beta[1] * x2_N[:10]),\n",
    "        sigma=sigma,\n",
    "        observed=y_N[:10])"
   ]
  },
  {
   "cell_type": "markdown",
   "metadata": {},
   "source": [
    "For the N=100 bigger dataset"
   ]
  },
  {
   "cell_type": "code",
   "execution_count": null,
   "metadata": {},
   "outputs": [],
   "source": [
    "my_model_N100 = pymc.Model()\n",
    "\n",
    "with my_model_N100:\n",
    "    # Priors for unknown model parameters\n",
    "    alpha = pymc.Normal('alpha', mu=0, sigma=10)\n",
    "    beta = pymc.Normal('beta', mu=0, sigma=10, shape=2)\n",
    "    sigma = pymc.HalfNormal('sigma', sigma=1)\n",
    "    \n",
    "    # Likelihood (sampling distribution) of observations\n",
    "    Y_obs = pymc.Normal('Y_obs',\n",
    "        mu=(alpha + beta[0] * x1_N + beta[1] * x2_N),\n",
    "        sigma=sigma,\n",
    "        observed=y_N)"
   ]
  },
  {
   "cell_type": "code",
   "execution_count": null,
   "metadata": {},
   "outputs": [
    {
     "name": "stdout",
     "output_type": "stream",
     "text": [
      "[alpha, beta, sigma, Y_obs]\n"
     ]
    }
   ],
   "source": [
    "print(my_model_N100.basic_RVs)"
   ]
  },
  {
   "cell_type": "markdown",
   "metadata": {},
   "source": [
    "## Setup: Prepare for plotting results"
   ]
  },
  {
   "cell_type": "code",
   "execution_count": null,
   "metadata": {},
   "outputs": [],
   "source": [
    "def plot_traces(trace):\n",
    "    fig, ax_grid = plt.subplots(nrows=2, ncols=2, sharex=True, sharey=True);\n",
    "    for ax, var_name, dim_id in zip(\n",
    "            ax_grid.flatten(), ['alpha', 'sigma', 'beta', 'beta'], [None, None, 0, 1]):\n",
    "        var_samples_CSD = trace.posterior[var_name].to_numpy()\n",
    "        assert var_samples_CSD.shape[0] == 1 # just one chain\n",
    "        true_val = true_params[var_name]\n",
    "\n",
    "        if dim_id is None:\n",
    "            var_samples_S = np.squeeze(var_samples_CSD)\n",
    "        else:\n",
    "            var_samples_S = np.squeeze(var_samples_CSD[:, :, dim_id])\n",
    "            true_val = true_val[dim_id]\n",
    "            var_name = var_name + \"[%d]\" % dim_id\n",
    "\n",
    "        S = var_samples_S.size\n",
    "        ax.plot(var_samples_S, 'b.', markersize=4, alpha=0.3, label='samples')\n",
    "        ax.plot(true_val * np.ones(S), 'r-', label='true_value')\n",
    "        ax.set_ylabel(var_name)\n",
    "\n",
    "    ax.legend(bbox_to_anchor=(1.1, 1.0))\n",
    "    ax.set_ylim([0, 2.0]);"
   ]
  },
  {
   "cell_type": "markdown",
   "metadata": {},
   "source": [
    "## Run MAP estimator for N=10 dataset"
   ]
  },
  {
   "cell_type": "code",
   "execution_count": null,
   "metadata": {},
   "outputs": [
    {
     "data": {
      "application/vnd.jupyter.widget-view+json": {
       "model_id": "13793bb81ae24189ab9a7a00a0828033",
       "version_major": 2,
       "version_minor": 0
      },
      "text/plain": [
       "Output()"
      ]
     },
     "metadata": {},
     "output_type": "display_data"
    },
    {
     "data": {
      "text/html": [
       "<pre style=\"white-space:pre;overflow-x:auto;line-height:normal;font-family:Menlo,'DejaVu Sans Mono',consolas,'Courier New',monospace\"></pre>\n"
      ],
      "text/plain": []
     },
     "metadata": {},
     "output_type": "display_data"
    }
   ],
   "source": [
    "map_N10 = pymc.find_MAP(model=my_model_N10, maxeval=100)"
   ]
  },
  {
   "cell_type": "code",
   "execution_count": null,
   "metadata": {},
   "outputs": [
    {
     "name": "stdout",
     "output_type": "stream",
     "text": [
      "alpha 1.06934529542497\n",
      "beta [1.00373547 1.44519963]\n",
      "sigma_log__ -1.6072262737528316\n",
      "sigma 0.2004428172316152\n"
     ]
    }
   ],
   "source": [
    "for key, arr in map_N10.items():\n",
    "    print(key, arr)"
   ]
  },
  {
   "cell_type": "code",
   "execution_count": null,
   "metadata": {},
   "outputs": [
    {
     "name": "stdout",
     "output_type": "stream",
     "text": [
      "alpha 1.0\n",
      "beta [1.0, 1.337]\n",
      "sigma 0.3\n"
     ]
    }
   ],
   "source": [
    "for key, arr in true_params.items():\n",
    "    print(key, arr)"
   ]
  },
  {
   "cell_type": "markdown",
   "metadata": {},
   "source": [
    "# Run MAP estimator for N=100 dataset"
   ]
  },
  {
   "cell_type": "code",
   "execution_count": null,
   "metadata": {},
   "outputs": [
    {
     "data": {
      "application/vnd.jupyter.widget-view+json": {
       "model_id": "8dd8e5156fae4bb6a637d98290708a4e",
       "version_major": 2,
       "version_minor": 0
      },
      "text/plain": [
       "Output()"
      ]
     },
     "metadata": {},
     "output_type": "display_data"
    },
    {
     "data": {
      "text/html": [
       "<pre style=\"white-space:pre;overflow-x:auto;line-height:normal;font-family:Menlo,'DejaVu Sans Mono',consolas,'Courier New',monospace\"></pre>\n"
      ],
      "text/plain": []
     },
     "metadata": {},
     "output_type": "display_data"
    }
   ],
   "source": [
    "map_N100 = pymc.find_MAP(model=my_model_N100, maxeval=1000)"
   ]
  },
  {
   "cell_type": "code",
   "execution_count": null,
   "metadata": {},
   "outputs": [
    {
     "name": "stdout",
     "output_type": "stream",
     "text": [
      "alpha 0.9720036057900738\n",
      "beta [0.98456618 1.3438014 ]\n",
      "sigma_log__ -1.2374928918369705\n",
      "sigma 0.29011064571009254\n"
     ]
    }
   ],
   "source": [
    "for key, arr in map_N100.items():\n",
    "    print(key, arr)"
   ]
  },
  {
   "cell_type": "code",
   "execution_count": null,
   "metadata": {},
   "outputs": [
    {
     "name": "stdout",
     "output_type": "stream",
     "text": [
      "alpha 1.0\n",
      "beta [1.0, 1.337]\n",
      "sigma 0.3\n"
     ]
    }
   ],
   "source": [
    "for key, arr in true_params.items():\n",
    "    print(key, arr)"
   ]
  },
  {
   "cell_type": "code",
   "execution_count": null,
   "metadata": {},
   "outputs": [],
   "source": []
  },
  {
   "cell_type": "markdown",
   "metadata": {},
   "source": [
    "# Run MCMC sampler for N=10 dataset"
   ]
  },
  {
   "cell_type": "code",
   "execution_count": null,
   "metadata": {},
   "outputs": [
    {
     "name": "stderr",
     "output_type": "stream",
     "text": [
      "/var/folders/_7/xr25dhrs43z7nbtp2n3h_chw0000gn/T/ipykernel_67638/1937328337.py:8: FutureWarning: The `start` kwarg was renamed to `initvals` and can now do more. Please check the docstring.\n",
      "  trace_N10 = pymc.sample(\n",
      "Sequential sampling (1 chains in 1 job)\n"
     ]
    },
    {
     "name": "stderr",
     "output_type": "stream",
     "text": [
      "NUTS: [alpha, beta, sigma]\n"
     ]
    },
    {
     "data": {
      "application/vnd.jupyter.widget-view+json": {
       "model_id": "9d098efeba514a0e8e6298f2745b129c",
       "version_major": 2,
       "version_minor": 0
      },
      "text/plain": [
       "Output()"
      ]
     },
     "metadata": {},
     "output_type": "display_data"
    },
    {
     "data": {
      "text/html": [
       "<pre style=\"white-space:pre;overflow-x:auto;line-height:normal;font-family:Menlo,'DejaVu Sans Mono',consolas,'Courier New',monospace\"></pre>\n"
      ],
      "text/plain": []
     },
     "metadata": {},
     "output_type": "display_data"
    },
    {
     "name": "stderr",
     "output_type": "stream",
     "text": [
      "Sampling 1 chain for 500 tune and 1_000 draw iterations (500 + 1_000 draws total) took 1 seconds.\n"
     ]
    },
    {
     "name": "stderr",
     "output_type": "stream",
     "text": [
      "Only one chain was sampled, this makes it impossible to run some convergence checks\n"
     ]
    }
   ],
   "source": [
    "with my_model_N10:\n",
    "    start = map_N10\n",
    "    \n",
    "    # instantiate sampler\n",
    "    mcmc_step = pymc.NUTS()\n",
    "    \n",
    "    # draw 1000 posterior samples\n",
    "    trace_N10 = pymc.sample(\n",
    "        step=mcmc_step, \n",
    "        start=start, \n",
    "        chains=1,\n",
    "        draws=1000,\n",
    "        tune=500,\n",
    "        discard_tuned_samples=True)\n",
    "    "
   ]
  },
  {
   "cell_type": "code",
   "execution_count": null,
   "metadata": {},
   "outputs": [
    {
     "data": {
      "image/png": "[encoded data removed]",
      "text/plain": [
       "<Figure size 640x480 with 4 Axes>"
      ]
     },
     "metadata": {},
     "output_type": "display_data"
    }
   ],
   "source": [
    "plot_traces(trace_N10)"
   ]
  },
  {
   "cell_type": "code",
   "execution_count": null,
   "metadata": {},
   "outputs": [
    {
     "data": {
      "image/png": "[encoded data removed]",
      "text/plain": [
       "<Figure size 640x480 with 1 Axes>"
      ]
     },
     "metadata": {},
     "output_type": "display_data"
    }
   ],
   "source": [
    "plt.hist(np.squeeze(trace_N10.posterior['sigma'].to_numpy()), bins=51, density=True);\n",
    "plt.xlabel('sigma');\n",
    "plt.xlim([0, 0.7]);"
   ]
  },
  {
   "cell_type": "markdown",
   "metadata": {},
   "source": [
    "# Run MCMC sampler for N=100 dataset"
   ]
  },
  {
   "cell_type": "code",
   "execution_count": null,
   "metadata": {},
   "outputs": [
    {
     "name": "stderr",
     "output_type": "stream",
     "text": [
      "/var/folders/_7/xr25dhrs43z7nbtp2n3h_chw0000gn/T/ipykernel_67638/1441496744.py:7: FutureWarning: The `start` kwarg was renamed to `initvals` and can now do more. Please check the docstring.\n",
      "  trace_N100 = pymc.sample(\n",
      "Sequential sampling (1 chains in 1 job)\n"
     ]
    },
    {
     "name": "stderr",
     "output_type": "stream",
     "text": [
      "NUTS: [alpha, beta, sigma]\n"
     ]
    },
    {
     "data": {
      "application/vnd.jupyter.widget-view+json": {
       "model_id": "0dbf936ad9b6453a8325056b681b8b75",
       "version_major": 2,
       "version_minor": 0
      },
      "text/plain": [
       "Output()"
      ]
     },
     "metadata": {},
     "output_type": "display_data"
    },
    {
     "data": {
      "text/html": [
       "<pre style=\"white-space:pre;overflow-x:auto;line-height:normal;font-family:Menlo,'DejaVu Sans Mono',consolas,'Courier New',monospace\"></pre>\n"
      ],
      "text/plain": []
     },
     "metadata": {},
     "output_type": "display_data"
    },
    {
     "name": "stderr",
     "output_type": "stream",
     "text": [
      "Sampling 1 chain for 500 tune and 1_000 draw iterations (500 + 1_000 draws total) took 1 seconds.\n"
     ]
    },
    {
     "name": "stderr",
     "output_type": "stream",
     "text": [
      "Only one chain was sampled, this makes it impossible to run some convergence checks\n"
     ]
    }
   ],
   "source": [
    "with my_model_N100:\n",
    "   \n",
    "    # instantiate sampler\n",
    "    mcmc_step = pymc.NUTS()\n",
    "    \n",
    "    # draw 1000 posterior samples\n",
    "    trace_N100 = pymc.sample(\n",
    "        step=mcmc_step, \n",
    "        start=map_N100, \n",
    "        chains=1,\n",
    "        draws=1000,\n",
    "        tune=500,\n",
    "        discard_tuned_samples=True)\n"
   ]
  },
  {
   "cell_type": "code",
   "execution_count": null,
   "metadata": {},
   "outputs": [
    {
     "data": {
      "image/png": "[encoded data removed]",
      "text/plain": [
       "<Figure size 640x480 with 4 Axes>"
      ]
     },
     "metadata": {},
     "output_type": "display_data"
    }
   ],
   "source": [
    "plot_traces(trace_N100)"
   ]
  },
  {
   "cell_type": "code",
   "execution_count": null,
   "metadata": {},
   "outputs": [
    {
     "data": {
      "image/png": "[encoded data removed]",
      "text/plain": [
       "<Figure size 640x480 with 1 Axes>"
      ]
     },
     "metadata": {},
     "output_type": "display_data"
    }
   ],
   "source": [
    "plt.hist(np.squeeze(trace_N100.posterior['sigma'].to_numpy()), bins=51, density=True);\n",
    "plt.xlim([0, 0.7]);\n",
    "plt.xlabel('sigma');"
   ]
  },
  {
   "cell_type": "code",
   "execution_count": null,
   "metadata": {},
   "outputs": [],
   "source": []
  }
 ],
 "metadata": {
  "kernelspec": {
   "display_name": "python3",
   "language": "python",
   "name": "python3"
  },
  "widgets": {
   "application/vnd.jupyter.widget-state+json": {
    "state": {
     "0203c0f824f64e0b98d4b1fb806d4696": {
      "model_module": "@jupyter-widgets/output",
      "model_module_version": "1.0.0",
      "model_name": "OutputModel",
      "state": {
       "_dom_classes": [],
       "_model_module": "@jupyter-widgets/output",
       "_model_module_version": "1.0.0",
       "_model_name": "OutputModel",
       "_view_count": null,
       "_view_module": "@jupyter-widgets/output",
       "_view_module_version": "1.0.0",
       "_view_name": "OutputView",
       "layout": "IPY_MODEL_e67d0349995c4e899ff679cab29b0842",
       "msg_id": "",
       "outputs": [
        {
         "data": {
          "text/html": "<pre style=\"white-space:pre;overflow-x:auto;line-height:normal;font-family:Menlo,'DejaVu Sans Mono',consolas,'Courier New',monospace\">                                                                                                                   \n <span style=\"font-weight: bold\"> Progress                       </span> <span style=\"font-weight: bold\"> Draws </span> <span style=\"font-weight: bold\"> Tuning </span> <span style=\"font-weight: bold\"> Scaling </span> <span style=\"font-weight: bold\"> Accept Rate </span> <span style=\"font-weight: bold\"> Sampling Speed  </span> <span style=\"font-weight: bold\"> Elapsed </span> <span style=\"font-weight: bold\"> Remaining </span> \n ───────────────────────────────────────────────────────────────────────────────────────────────────────────────── \n  <span style=\"color: #1f77b4; text-decoration-color: #1f77b4\">━━━━━━━━━━━━━━━━━━━━━━━━━━━━━━</span>   10000   False    1.00      0.91          7729.75 draws/s   0:00:01   0:00:00    \n                                                                                                                   \n</pre>\n",
          "text/plain": "                                                                                                                   \n \u001b[1m \u001b[0m\u001b[1mProgress                      \u001b[0m\u001b[1m \u001b[0m \u001b[1m \u001b[0m\u001b[1mDraws\u001b[0m\u001b[1m \u001b[0m \u001b[1m \u001b[0m\u001b[1mTuning\u001b[0m\u001b[1m \u001b[0m \u001b[1m \u001b[0m\u001b[1mScaling\u001b[0m\u001b[1m \u001b[0m \u001b[1m \u001b[0m\u001b[1mAccept Rate\u001b[0m\u001b[1m \u001b[0m \u001b[1m \u001b[0m\u001b[1mSampling Speed \u001b[0m\u001b[1m \u001b[0m \u001b[1m \u001b[0m\u001b[1mElapsed\u001b[0m\u001b[1m \u001b[0m \u001b[1m \u001b[0m\u001b[1mRemaining\u001b[0m\u001b[1m \u001b[0m \n ───────────────────────────────────────────────────────────────────────────────────────────────────────────────── \n  \u001b[38;2;31;119;180m━━━━━━━━━━━━━━━━━━━━━━━━━━━━━━\u001b[0m   10000   False    1.00      0.91          7729.75 draws/s   0:00:01   0:00:00    \n                                                                                                                   \n"
         },
         "metadata": {},
         "output_type": "display_data"
        }
       ],
       "tabbable": null,
       "tooltip": null
      }
     },
     "06af3e8da3fa43ac9992443ff8038491": {
      "model_module": "@jupyter-widgets/base",
      "model_module_version": "2.0.0",
      "model_name": "LayoutModel",
      "state": {
       "_model_module": "@jupyter-widgets/base",
       "_model_module_version": "2.0.0",
       "_model_name": "LayoutModel",
       "_view_count": null,
       "_view_module": "@jupyter-widgets/base",
       "_view_module_version": "2.0.0",
       "_view_name": "LayoutView",
       "align_content": null,
       "align_items": null,
       "align_self": null,
       "border_bottom": null,
       "border_left": null,
       "border_right": null,
       "border_top": null,
       "bottom": null,
       "display": null,
       "flex": null,
       "flex_flow": null,
       "grid_area": null,
       "grid_auto_columns": null,
       "grid_auto_flow": null,
       "grid_auto_rows": null,
       "grid_column": null,
       "grid_gap": null,
       "grid_row": null,
       "grid_template_areas": null,
       "grid_template_columns": null,
       "grid_template_rows": null,
       "height": null,
       "justify_content": null,
       "justify_items": null,
       "left": null,
       "margin": null,
       "max_height": null,
       "max_width": null,
       "min_height": null,
       "min_width": null,
       "object_fit": null,
       "object_position": null,
       "order": null,
       "overflow": null,
       "padding": null,
       "right": null,
       "top": null,
       "visibility": null,
       "width": null
      }
     },
     "0dbf936ad9b6453a8325056b681b8b75": {
      "model_module": "@jupyter-widgets/output",
      "model_module_version": "1.0.0",
      "model_name": "OutputModel",
      "state": {
       "_dom_classes": [],
       "_model_module": "@jupyter-widgets/output",
       "_model_module_version": "1.0.0",
       "_model_name": "OutputModel",
       "_view_count": null,
       "_view_module": "@jupyter-widgets/output",
       "_view_module_version": "1.0.0",
       "_view_name": "OutputView",
       "layout": "IPY_MODEL_06af3e8da3fa43ac9992443ff8038491",
       "msg_id": "",
       "outputs": [
        {
         "data": {
          "text/html": "<pre style=\"white-space:pre;overflow-x:auto;line-height:normal;font-family:Menlo,'DejaVu Sans Mono',consolas,'Courier New',monospace\">                                                                                                                   \n <span style=\"font-weight: bold\"> Progress                 </span> <span style=\"font-weight: bold\"> Draws </span> <span style=\"font-weight: bold\"> Divergences </span> <span style=\"font-weight: bold\"> Step size </span> <span style=\"font-weight: bold\"> Grad evals </span> <span style=\"font-weight: bold\"> Sampling Speed  </span> <span style=\"font-weight: bold\"> Elapsed </span> <span style=\"font-weight: bold\"> Remaining </span> \n ───────────────────────────────────────────────────────────────────────────────────────────────────────────────── \n  <span style=\"color: #1f77b4; text-decoration-color: #1f77b4\">━━━━━━━━━━━━━━━━━━━━━━━━</span>   1500    0             1.149       3            1891.69 draws/s   0:00:00   0:00:00    \n                                                                                                                   \n</pre>\n",
          "text/plain": "                                                                                                                   \n \u001b[1m \u001b[0m\u001b[1mProgress                \u001b[0m\u001b[1m \u001b[0m \u001b[1m \u001b[0m\u001b[1mDraws\u001b[0m\u001b[1m \u001b[0m \u001b[1m \u001b[0m\u001b[1mDivergences\u001b[0m\u001b[1m \u001b[0m \u001b[1m \u001b[0m\u001b[1mStep size\u001b[0m\u001b[1m \u001b[0m \u001b[1m \u001b[0m\u001b[1mGrad evals\u001b[0m\u001b[1m \u001b[0m \u001b[1m \u001b[0m\u001b[1mSampling Speed \u001b[0m\u001b[1m \u001b[0m \u001b[1m \u001b[0m\u001b[1mElapsed\u001b[0m\u001b[1m \u001b[0m \u001b[1m \u001b[0m\u001b[1mRemaining\u001b[0m\u001b[1m \u001b[0m \n ───────────────────────────────────────────────────────────────────────────────────────────────────────────────── \n  \u001b[38;2;31;119;180m━━━━━━━━━━━━━━━━━━━━━━━━\u001b[0m   1500    0             1.149       3            1891.69 draws/s   0:00:00   0:00:00    \n                                                                                                                   \n"
         },
         "metadata": {},
         "output_type": "display_data"
        }
       ],
       "tabbable": null,
       "tooltip": null
      }
     },
     "13793bb81ae24189ab9a7a00a0828033": {
      "model_module": "@jupyter-widgets/output",
      "model_module_version": "1.0.0",
      "model_name": "OutputModel",
      "state": {
       "_dom_classes": [],
       "_model_module": "@jupyter-widgets/output",
       "_model_module_version": "1.0.0",
       "_model_name": "OutputModel",
       "_view_count": null,
       "_view_module": "@jupyter-widgets/output",
       "_view_module_version": "1.0.0",
       "_view_name": "OutputView",
       "layout": "IPY_MODEL_ed89865872504c4d997592fae34661e9",
       "msg_id": "",
       "outputs": [
        {
         "data": {
          "text/html": "<pre style=\"white-space:pre;overflow-x:auto;line-height:normal;font-family:Menlo,'DejaVu Sans Mono',consolas,'Courier New',monospace\">MAP <span style=\"color: #1764f4; text-decoration-color: #1764f4\">━━━━━━━━━━╸</span><span style=\"color: #3a3a3a; text-decoration-color: #3a3a3a\">━━━━━━━━━━━━━━━━━━━━━━━━━━━━━</span> <span style=\"color: #800080; text-decoration-color: #800080\"> 27%</span> 0:00:01 logp = -8.0817, ||grad|| = 1.9611\n</pre>\n",
          "text/plain": "MAP \u001b[38;2;23;100;244m━━━━━━━━━━\u001b[0m\u001b[38;2;23;100;244m╸\u001b[0m\u001b[38;5;237m━━━━━━━━━━━━━━━━━━━━━━━━━━━━━\u001b[0m \u001b[35m 27%\u001b[0m 0:00:01 logp = -8.0817, ||grad|| = 1.9611\n"
         },
         "metadata": {},
         "output_type": "display_data"
        }
       ],
       "tabbable": null,
       "tooltip": null
      }
     },
     "34a8508f84a8443e8b58ef7488ce2d2e": {
      "model_module": "@jupyter-widgets/base",
      "model_module_version": "2.0.0",
      "model_name": "LayoutModel",
      "state": {
       "_model_module": "@jupyter-widgets/base",
       "_model_module_version": "2.0.0",
       "_model_name": "LayoutModel",
       "_view_count": null,
       "_view_module": "@jupyter-widgets/base",
       "_view_module_version": "2.0.0",
       "_view_name": "LayoutView",
       "align_content": null,
       "align_items": null,
       "align_self": null,
       "border_bottom": null,
       "border_left": null,
       "border_right": null,
       "border_top": null,
       "bottom": null,
       "display": null,
       "flex": null,
       "flex_flow": null,
       "grid_area": null,
       "grid_auto_columns": null,
       "grid_auto_flow": null,
       "grid_auto_rows": null,
       "grid_column": null,
       "grid_gap": null,
       "grid_row": null,
       "grid_template_areas": null,
       "grid_template_columns": null,
       "grid_template_rows": null,
       "height": null,
       "justify_content": null,
       "justify_items": null,
       "left": null,
       "margin": null,
       "max_height": null,
       "max_width": null,
       "min_height": null,
       "min_width": null,
       "object_fit": null,
       "object_position": null,
       "order": null,
       "overflow": null,
       "padding": null,
       "right": null,
       "top": null,
       "visibility": null,
       "width": null
      }
     },
     "49117261b87f4af8956e0501058a9410": {
      "model_module": "@jupyter-widgets/output",
      "model_module_version": "1.0.0",
      "model_name": "OutputModel",
      "state": {
       "_dom_classes": [],
       "_model_module": "@jupyter-widgets/output",
       "_model_module_version": "1.0.0",
       "_model_name": "OutputModel",
       "_view_count": null,
       "_view_module": "@jupyter-widgets/output",
       "_view_module_version": "1.0.0",
       "_view_name": "OutputView",
       "layout": "IPY_MODEL_fcbd81e7e0e44229939d5b28563cdbf8",
       "msg_id": "",
       "outputs": [
        {
         "data": {
          "text/html": "<pre style=\"white-space:pre;overflow-x:auto;line-height:normal;font-family:Menlo,'DejaVu Sans Mono',consolas,'Courier New',monospace\">MAP <span style=\"color: #3a3a3a; text-decoration-color: #3a3a3a\">━━━━━━━━━━━━━━━━━━━━━━━━━━━━━━━━━━━━━━━━</span> <span style=\"color: #800080; text-decoration-color: #800080\">  1%</span> 0:00:01 logp = -26.472, ||grad|| = 12.3\n</pre>\n",
          "text/plain": "MAP \u001b[38;5;237m━━━━━━━━━━━━━━━━━━━━━━━━━━━━━━━━━━━━━━━━\u001b[0m \u001b[35m  1%\u001b[0m 0:00:01 logp = -26.472, ||grad|| = 12.3\n"
         },
         "metadata": {},
         "output_type": "display_data"
        }
       ],
       "tabbable": null,
       "tooltip": null
      }
     },
     "8dd8e5156fae4bb6a637d98290708a4e": {
      "model_module": "@jupyter-widgets/output",
      "model_module_version": "1.0.0",
      "model_name": "OutputModel",
      "state": {
       "_dom_classes": [],
       "_model_module": "@jupyter-widgets/output",
       "_model_module_version": "1.0.0",
       "_model_name": "OutputModel",
       "_view_count": null,
       "_view_module": "@jupyter-widgets/output",
       "_view_module_version": "1.0.0",
       "_view_name": "OutputView",
       "layout": "IPY_MODEL_b00d278cc5c2406c9eb76fd96d026a85",
       "msg_id": "",
       "outputs": [
        {
         "data": {
          "text/html": "<pre style=\"white-space:pre;overflow-x:auto;line-height:normal;font-family:Menlo,'DejaVu Sans Mono',consolas,'Courier New',monospace\">MAP <span style=\"color: #1764f4; text-decoration-color: #1764f4\">╸</span><span style=\"color: #3a3a3a; text-decoration-color: #3a3a3a\">━━━━━━━━━━━━━━━━━━━━━━━━━━━━━━━━━━━━━━━</span> <span style=\"color: #800080; text-decoration-color: #800080\">  2%</span> 0:00:01 logp = -58.135, ||grad|| = 341.7\n</pre>\n",
          "text/plain": "MAP \u001b[38;2;23;100;244m╸\u001b[0m\u001b[38;5;237m━━━━━━━━━━━━━━━━━━━━━━━━━━━━━━━━━━━━━━━\u001b[0m \u001b[35m  2%\u001b[0m 0:00:01 logp = -58.135, ||grad|| = 341.7\n"
         },
         "metadata": {},
         "output_type": "display_data"
        }
       ],
       "tabbable": null,
       "tooltip": null
      }
     },
     "95f05393323e4a7f8fbf55af8c6d3c4c": {
      "model_module": "@jupyter-widgets/output",
      "model_module_version": "1.0.0",
      "model_name": "OutputModel",
      "state": {
       "_dom_classes": [],
       "_model_module": "@jupyter-widgets/output",
       "_model_module_version": "1.0.0",
       "_model_name": "OutputModel",
       "_view_count": null,
       "_view_module": "@jupyter-widgets/output",
       "_view_module_version": "1.0.0",
       "_view_name": "OutputView",
       "layout": "IPY_MODEL_f12239d1e6984e68bd8840a678b7bee4",
       "msg_id": "",
       "outputs": [
        {
         "data": {
          "text/html": "<pre style=\"white-space:pre;overflow-x:auto;line-height:normal;font-family:Menlo,'DejaVu Sans Mono',consolas,'Courier New',monospace\">MAP <span style=\"color: #3a3a3a; text-decoration-color: #3a3a3a\">━━━━━━━━━━━━━━━━━━━━━━━━━━━━━━━━━━━━━━━━</span> <span style=\"color: #800080; text-decoration-color: #800080\">  1%</span> 0:00:01 logp = -26.472, ||grad|| = 12.3\n</pre>\n",
          "text/plain": "MAP \u001b[38;5;237m━━━━━━━━━━━━━━━━━━━━━━━━━━━━━━━━━━━━━━━━\u001b[0m \u001b[35m  1%\u001b[0m 0:00:01 logp = -26.472, ||grad|| = 12.3\n"
         },
         "metadata": {},
         "output_type": "display_data"
        }
       ],
       "tabbable": null,
       "tooltip": null
      }
     },
     "9d098efeba514a0e8e6298f2745b129c": {
      "model_module": "@jupyter-widgets/output",
      "model_module_version": "1.0.0",
      "model_name": "OutputModel",
      "state": {
       "_dom_classes": [],
       "_model_module": "@jupyter-widgets/output",
       "_model_module_version": "1.0.0",
       "_model_name": "OutputModel",
       "_view_count": null,
       "_view_module": "@jupyter-widgets/output",
       "_view_module_version": "1.0.0",
       "_view_name": "OutputView",
       "layout": "IPY_MODEL_f33d10334ed740d58670c29d8480a724",
       "msg_id": "",
       "outputs": [
        {
         "data": {
          "text/html": "<pre style=\"white-space:pre;overflow-x:auto;line-height:normal;font-family:Menlo,'DejaVu Sans Mono',consolas,'Courier New',monospace\">                                                                                                                   \n <span style=\"font-weight: bold\"> Progress                 </span> <span style=\"font-weight: bold\"> Draws </span> <span style=\"font-weight: bold\"> Divergences </span> <span style=\"font-weight: bold\"> Step size </span> <span style=\"font-weight: bold\"> Grad evals </span> <span style=\"font-weight: bold\"> Sampling Speed  </span> <span style=\"font-weight: bold\"> Elapsed </span> <span style=\"font-weight: bold\"> Remaining </span> \n ───────────────────────────────────────────────────────────────────────────────────────────────────────────────── \n  <span style=\"color: #1f77b4; text-decoration-color: #1f77b4\">━━━━━━━━━━━━━━━━━━━━━━━━</span>   1500    0             0.646       7            1706.01 draws/s   0:00:00   0:00:00    \n                                                                                                                   \n</pre>\n",
          "text/plain": "                                                                                                                   \n \u001b[1m \u001b[0m\u001b[1mProgress                \u001b[0m\u001b[1m \u001b[0m \u001b[1m \u001b[0m\u001b[1mDraws\u001b[0m\u001b[1m \u001b[0m \u001b[1m \u001b[0m\u001b[1mDivergences\u001b[0m\u001b[1m \u001b[0m \u001b[1m \u001b[0m\u001b[1mStep size\u001b[0m\u001b[1m \u001b[0m \u001b[1m \u001b[0m\u001b[1mGrad evals\u001b[0m\u001b[1m \u001b[0m \u001b[1m \u001b[0m\u001b[1mSampling Speed \u001b[0m\u001b[1m \u001b[0m \u001b[1m \u001b[0m\u001b[1mElapsed\u001b[0m\u001b[1m \u001b[0m \u001b[1m \u001b[0m\u001b[1mRemaining\u001b[0m\u001b[1m \u001b[0m \n ───────────────────────────────────────────────────────────────────────────────────────────────────────────────── \n  \u001b[38;2;31;119;180m━━━━━━━━━━━━━━━━━━━━━━━━\u001b[0m   1500    0             0.646       7            1706.01 draws/s   0:00:00   0:00:00    \n                                                                                                                   \n"
         },
         "metadata": {},
         "output_type": "display_data"
        }
       ],
       "tabbable": null,
       "tooltip": null
      }
     },
     "b00d278cc5c2406c9eb76fd96d026a85": {
      "model_module": "@jupyter-widgets/base",
      "model_module_version": "2.0.0",
      "model_name": "LayoutModel",
      "state": {
       "_model_module": "@jupyter-widgets/base",
       "_model_module_version": "2.0.0",
       "_model_name": "LayoutModel",
       "_view_count": null,
       "_view_module": "@jupyter-widgets/base",
       "_view_module_version": "2.0.0",
       "_view_name": "LayoutView",
       "align_content": null,
       "align_items": null,
       "align_self": null,
       "border_bottom": null,
       "border_left": null,
       "border_right": null,
       "border_top": null,
       "bottom": null,
       "display": null,
       "flex": null,
       "flex_flow": null,
       "grid_area": null,
       "grid_auto_columns": null,
       "grid_auto_flow": null,
       "grid_auto_rows": null,
       "grid_column": null,
       "grid_gap": null,
       "grid_row": null,
       "grid_template_areas": null,
       "grid_template_columns": null,
       "grid_template_rows": null,
       "height": null,
       "justify_content": null,
       "justify_items": null,
       "left": null,
       "margin": null,
       "max_height": null,
       "max_width": null,
       "min_height": null,
       "min_width": null,
       "object_fit": null,
       "object_position": null,
       "order": null,
       "overflow": null,
       "padding": null,
       "right": null,
       "top": null,
       "visibility": null,
       "width": null
      }
     },
     "b98914b3162c46bd9295703cd10608ff": {
      "model_module": "@jupyter-widgets/output",
      "model_module_version": "1.0.0",
      "model_name": "OutputModel",
      "state": {
       "_dom_classes": [],
       "_model_module": "@jupyter-widgets/output",
       "_model_module_version": "1.0.0",
       "_model_name": "OutputModel",
       "_view_count": null,
       "_view_module": "@jupyter-widgets/output",
       "_view_module_version": "1.0.0",
       "_view_name": "OutputView",
       "layout": "IPY_MODEL_34a8508f84a8443e8b58ef7488ce2d2e",
       "msg_id": "",
       "outputs": [
        {
         "data": {
          "text/html": "<pre style=\"white-space:pre;overflow-x:auto;line-height:normal;font-family:Menlo,'DejaVu Sans Mono',consolas,'Courier New',monospace\">                                                                                                                   \n <span style=\"font-weight: bold\"> Progress                       </span> <span style=\"font-weight: bold\"> Draws </span> <span style=\"font-weight: bold\"> Tuning </span> <span style=\"font-weight: bold\"> Scaling </span> <span style=\"font-weight: bold\"> Accept Rate </span> <span style=\"font-weight: bold\"> Sampling Speed  </span> <span style=\"font-weight: bold\"> Elapsed </span> <span style=\"font-weight: bold\"> Remaining </span> \n ───────────────────────────────────────────────────────────────────────────────────────────────────────────────── \n  <span style=\"color: #1f77b4; text-decoration-color: #1f77b4\">━━━━━━━━━━━━━━━━━━━━━━━━━━━━━━</span>   10000   False    1.00      0.00          6484.00 draws/s   0:00:01   0:00:00    \n                                                                                                                   \n</pre>\n",
          "text/plain": "                                                                                                                   \n \u001b[1m \u001b[0m\u001b[1mProgress                      \u001b[0m\u001b[1m \u001b[0m \u001b[1m \u001b[0m\u001b[1mDraws\u001b[0m\u001b[1m \u001b[0m \u001b[1m \u001b[0m\u001b[1mTuning\u001b[0m\u001b[1m \u001b[0m \u001b[1m \u001b[0m\u001b[1mScaling\u001b[0m\u001b[1m \u001b[0m \u001b[1m \u001b[0m\u001b[1mAccept Rate\u001b[0m\u001b[1m \u001b[0m \u001b[1m \u001b[0m\u001b[1mSampling Speed \u001b[0m\u001b[1m \u001b[0m \u001b[1m \u001b[0m\u001b[1mElapsed\u001b[0m\u001b[1m \u001b[0m \u001b[1m \u001b[0m\u001b[1mRemaining\u001b[0m\u001b[1m \u001b[0m \n ───────────────────────────────────────────────────────────────────────────────────────────────────────────────── \n  \u001b[38;2;31;119;180m━━━━━━━━━━━━━━━━━━━━━━━━━━━━━━\u001b[0m   10000   False    1.00      0.00          6484.00 draws/s   0:00:01   0:00:00    \n                                                                                                                   \n"
         },
         "metadata": {},
         "output_type": "display_data"
        }
       ],
       "tabbable": null,
       "tooltip": null
      }
     },
     "d4b222f5656844c6a0244b6d5bb705ba": {
      "model_module": "@jupyter-widgets/output",
      "model_module_version": "1.0.0",
      "model_name": "OutputModel",
      "state": {
       "_dom_classes": [],
       "_model_module": "@jupyter-widgets/output",
       "_model_module_version": "1.0.0",
       "_model_name": "OutputModel",
       "_view_count": null,
       "_view_module": "@jupyter-widgets/output",
       "_view_module_version": "1.0.0",
       "_view_name": "OutputView",
       "layout": "IPY_MODEL_fcb57fe551f44f139f48499530ac450c",
       "msg_id": "",
       "outputs": [
        {
         "data": {
          "text/html": "<pre style=\"white-space:pre;overflow-x:auto;line-height:normal;font-family:Menlo,'DejaVu Sans Mono',consolas,'Courier New',monospace\">MAP <span style=\"color: #3a3a3a; text-decoration-color: #3a3a3a\">━━━━━━━━━━━━━━━━━━━━━━━━━━━━━━━━━━━━━━━━</span> <span style=\"color: #800080; text-decoration-color: #800080\">  1%</span> 0:00:01 logp = -728.84, ||grad|| = 512.43\n</pre>\n",
          "text/plain": "MAP \u001b[38;5;237m━━━━━━━━━━━━━━━━━━━━━━━━━━━━━━━━━━━━━━━━\u001b[0m \u001b[35m  1%\u001b[0m 0:00:01 logp = -728.84, ||grad|| = 512.43\n"
         },
         "metadata": {},
         "output_type": "display_data"
        }
       ],
       "tabbable": null,
       "tooltip": null
      }
     },
     "e67d0349995c4e899ff679cab29b0842": {
      "model_module": "@jupyter-widgets/base",
      "model_module_version": "2.0.0",
      "model_name": "LayoutModel",
      "state": {
       "_model_module": "@jupyter-widgets/base",
       "_model_module_version": "2.0.0",
       "_model_name": "LayoutModel",
       "_view_count": null,
       "_view_module": "@jupyter-widgets/base",
       "_view_module_version": "2.0.0",
       "_view_name": "LayoutView",
       "align_content": null,
       "align_items": null,
       "align_self": null,
       "border_bottom": null,
       "border_left": null,
       "border_right": null,
       "border_top": null,
       "bottom": null,
       "display": null,
       "flex": null,
       "flex_flow": null,
       "grid_area": null,
       "grid_auto_columns": null,
       "grid_auto_flow": null,
       "grid_auto_rows": null,
       "grid_column": null,
       "grid_gap": null,
       "grid_row": null,
       "grid_template_areas": null,
       "grid_template_columns": null,
       "grid_template_rows": null,
       "height": null,
       "justify_content": null,
       "justify_items": null,
       "left": null,
       "margin": null,
       "max_height": null,
       "max_width": null,
       "min_height": null,
       "min_width": null,
       "object_fit": null,
       "object_position": null,
       "order": null,
       "overflow": null,
       "padding": null,
       "right": null,
       "top": null,
       "visibility": null,
       "width": null
      }
     },
     "ed89865872504c4d997592fae34661e9": {
      "model_module": "@jupyter-widgets/base",
      "model_module_version": "2.0.0",
      "model_name": "LayoutModel",
      "state": {
       "_model_module": "@jupyter-widgets/base",
       "_model_module_version": "2.0.0",
       "_model_name": "LayoutModel",
       "_view_count": null,
       "_view_module": "@jupyter-widgets/base",
       "_view_module_version": "2.0.0",
       "_view_name": "LayoutView",
       "align_content": null,
       "align_items": null,
       "align_self": null,
       "border_bottom": null,
       "border_left": null,
       "border_right": null,
       "border_top": null,
       "bottom": null,
       "display": null,
       "flex": null,
       "flex_flow": null,
       "grid_area": null,
       "grid_auto_columns": null,
       "grid_auto_flow": null,
       "grid_auto_rows": null,
       "grid_column": null,
       "grid_gap": null,
       "grid_row": null,
       "grid_template_areas": null,
       "grid_template_columns": null,
       "grid_template_rows": null,
       "height": null,
       "justify_content": null,
       "justify_items": null,
       "left": null,
       "margin": null,
       "max_height": null,
       "max_width": null,
       "min_height": null,
       "min_width": null,
       "object_fit": null,
       "object_position": null,
       "order": null,
       "overflow": null,
       "padding": null,
       "right": null,
       "top": null,
       "visibility": null,
       "width": null
      }
     },
     "f12239d1e6984e68bd8840a678b7bee4": {
      "model_module": "@jupyter-widgets/base",
      "model_module_version": "2.0.0",
      "model_name": "LayoutModel",
      "state": {
       "_model_module": "@jupyter-widgets/base",
       "_model_module_version": "2.0.0",
       "_model_name": "LayoutModel",
       "_view_count": null,
       "_view_module": "@jupyter-widgets/base",
       "_view_module_version": "2.0.0",
       "_view_name": "LayoutView",
       "align_content": null,
       "align_items": null,
       "align_self": null,
       "border_bottom": null,
       "border_left": null,
       "border_right": null,
       "border_top": null,
       "bottom": null,
       "display": null,
       "flex": null,
       "flex_flow": null,
       "grid_area": null,
       "grid_auto_columns": null,
       "grid_auto_flow": null,
       "grid_auto_rows": null,
       "grid_column": null,
       "grid_gap": null,
       "grid_row": null,
       "grid_template_areas": null,
       "grid_template_columns": null,
       "grid_template_rows": null,
       "height": null,
       "justify_content": null,
       "justify_items": null,
       "left": null,
       "margin": null,
       "max_height": null,
       "max_width": null,
       "min_height": null,
       "min_width": null,
       "object_fit": null,
       "object_position": null,
       "order": null,
       "overflow": null,
       "padding": null,
       "right": null,
       "top": null,
       "visibility": null,
       "width": null
      }
     },
     "f33d10334ed740d58670c29d8480a724": {
      "model_module": "@jupyter-widgets/base",
      "model_module_version": "2.0.0",
      "model_name": "LayoutModel",
      "state": {
       "_model_module": "@jupyter-widgets/base",
       "_model_module_version": "2.0.0",
       "_model_name": "LayoutModel",
       "_view_count": null,
       "_view_module": "@jupyter-widgets/base",
       "_view_module_version": "2.0.0",
       "_view_name": "LayoutView",
       "align_content": null,
       "align_items": null,
       "align_self": null,
       "border_bottom": null,
       "border_left": null,
       "border_right": null,
       "border_top": null,
       "bottom": null,
       "display": null,
       "flex": null,
       "flex_flow": null,
       "grid_area": null,
       "grid_auto_columns": null,
       "grid_auto_flow": null,
       "grid_auto_rows": null,
       "grid_column": null,
       "grid_gap": null,
       "grid_row": null,
       "grid_template_areas": null,
       "grid_template_columns": null,
       "grid_template_rows": null,
       "height": null,
       "justify_content": null,
       "justify_items": null,
       "left": null,
       "margin": null,
       "max_height": null,
       "max_width": null,
       "min_height": null,
       "min_width": null,
       "object_fit": null,
       "object_position": null,
       "order": null,
       "overflow": null,
       "padding": null,
       "right": null,
       "top": null,
       "visibility": null,
       "width": null
      }
     },
     "fcb57fe551f44f139f48499530ac450c": {
      "model_module": "@jupyter-widgets/base",
      "model_module_version": "2.0.0",
      "model_name": "LayoutModel",
      "state": {
       "_model_module": "@jupyter-widgets/base",
       "_model_module_version": "2.0.0",
       "_model_name": "LayoutModel",
       "_view_count": null,
       "_view_module": "@jupyter-widgets/base",
       "_view_module_version": "2.0.0",
       "_view_name": "LayoutView",
       "align_content": null,
       "align_items": null,
       "align_self": null,
       "border_bottom": null,
       "border_left": null,
       "border_right": null,
       "border_top": null,
       "bottom": null,
       "display": null,
       "flex": null,
       "flex_flow": null,
       "grid_area": null,
       "grid_auto_columns": null,
       "grid_auto_flow": null,
       "grid_auto_rows": null,
       "grid_column": null,
       "grid_gap": null,
       "grid_row": null,
       "grid_template_areas": null,
       "grid_template_columns": null,
       "grid_template_rows": null,
       "height": null,
       "justify_content": null,
       "justify_items": null,
       "left": null,
       "margin": null,
       "max_height": null,
       "max_width": null,
       "min_height": null,
       "min_width": null,
       "object_fit": null,
       "object_position": null,
       "order": null,
       "overflow": null,
       "padding": null,
       "right": null,
       "top": null,
       "visibility": null,
       "width": null
      }
     },
     "fcbd81e7e0e44229939d5b28563cdbf8": {
      "model_module": "@jupyter-widgets/base",
      "model_module_version": "2.0.0",
      "model_name": "LayoutModel",
      "state": {
       "_model_module": "@jupyter-widgets/base",
       "_model_module_version": "2.0.0",
       "_model_name": "LayoutModel",
       "_view_count": null,
       "_view_module": "@jupyter-widgets/base",
       "_view_module_version": "2.0.0",
       "_view_name": "LayoutView",
       "align_content": null,
       "align_items": null,
       "align_self": null,
       "border_bottom": null,
       "border_left": null,
       "border_right": null,
       "border_top": null,
       "bottom": null,
       "display": null,
       "flex": null,
       "flex_flow": null,
       "grid_area": null,
       "grid_auto_columns": null,
       "grid_auto_flow": null,
       "grid_auto_rows": null,
       "grid_column": null,
       "grid_gap": null,
       "grid_row": null,
       "grid_template_areas": null,
       "grid_template_columns": null,
       "grid_template_rows": null,
       "height": null,
       "justify_content": null,
       "justify_items": null,
       "left": null,
       "margin": null,
       "max_height": null,
       "max_width": null,
       "min_height": null,
       "min_width": null,
       "object_fit": null,
       "object_position": null,
       "order": null,
       "overflow": null,
       "padding": null,
       "right": null,
       "top": null,
       "visibility": null,
       "width": null
      }
     }
    },
    "version_major": 2,
    "version_minor": 0
   }
  }
 },
 "nbformat": 4,
 "nbformat_minor": 4
}
